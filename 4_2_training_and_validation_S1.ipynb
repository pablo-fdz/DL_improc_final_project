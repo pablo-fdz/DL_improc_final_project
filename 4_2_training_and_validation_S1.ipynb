{
 "cells": [
  {
   "cell_type": "markdown",
   "id": "5314e8c6",
   "metadata": {},
   "source": [
    "Training with **Sentinel-1 GRD** data (IW mode, VV+VH polarization). This notebook is a replica of the notebook for the training with Sentinel-2 data, but with minor adjustments to adapt it to Sentinel-1 images."
   ]
  },
  {
   "cell_type": "markdown",
   "id": "4c66e0cf",
   "metadata": {},
   "source": [
    "# 0. Setup"
   ]
  },
  {
   "cell_type": "markdown",
   "id": "b9229881",
   "metadata": {},
   "source": [
    "## 0.1. Libraries"
   ]
  },
  {
   "cell_type": "code",
   "execution_count": null,
   "id": "2befe611",
   "metadata": {},
   "outputs": [
    {
     "name": "stdout",
     "output_type": "stream",
     "text": [
      "Using device: cuda\n",
      "Seed set to 42 for NumPy, Torch and Random for reproducibility.\n"
     ]
    }
   ],
   "source": [
    "# Utilities\n",
    "import os\n",
    "import numpy as np\n",
    "import pandas as pd\n",
    "from matplotlib import pyplot as plt\n",
    "import seaborn as sns\n",
    "from sklearn.metrics import confusion_matrix, classification_report\n",
    "\n",
    "# Deep learning\n",
    "import torch\n",
    "from torch import nn, utils\n",
    "from torchmetrics import classification\n",
    "\n",
    "# Custom library\n",
    "from library import nn_model, utilities, visualizations, preprocessing\n",
    "\n",
    "# Device\n",
    "device = 'cuda' if torch.cuda.is_available() else 'mps' if torch.backends.mps.is_available() else 'cpu'\n",
    "device = torch.device(device)\n",
    "print(f'Using device: {device}')\n",
    "\n",
    "# Utilities\n",
    "seed = 42\n",
    "utilities.set_seed(seed)"
   ]
  },
  {
   "cell_type": "markdown",
   "id": "44bdc34e",
   "metadata": {},
   "source": [
    "## 0.2. Setting the path to the training data\n",
    "\n",
    "We set the path to the tiles that have been created in the preprocessing notebook, `3_preprocessing.ipynb`."
   ]
  },
  {
   "cell_type": "code",
   "execution_count": 2,
   "id": "0f3d011a",
   "metadata": {},
   "outputs": [],
   "source": [
    "base_input_dir = '/media/pablo/Shared files/data/'  # Adjust this path to your data directory containing the labelled dataset\n",
    "input_labelled_dir = os.path.join(base_input_dir, 'Satellite_burned_area_dataset')  # Path to the original labelled dataset\n",
    "tile_dir = os.path.join(base_input_dir, 'tiled_labelled_dataset')  # Path to the tiled dataset\n",
    "sentinel_type = 1  # Sentinel-1 data"
   ]
  },
  {
   "cell_type": "markdown",
   "id": "15847d20",
   "metadata": {},
   "source": [
    "## 0.3. Notebook description\n",
    "\n",
    "We train a multi-class segmentation model that assesses wildfire severity using satellite images **from Sentinel-2 L2A** (the \"natural-looking\" images). Additional steps applied during training:\n",
    "- Randomly shuffle the tiles (done at the training stage).\n",
    "- Apply data augmentation techniques to improve the robustness of the model. The authors implement the following transformations (we will do similar but different ones, this is just as reference): \"*We applied the following transformations: rotation (up to 50° on both sides), shear (up to 20°), horizontal flip, and vertical flip, all of them with a probability of 50%.*\"\n",
    "- If computationally feasible, we will do cross-fold validation. Otherwise, we will just divide the data statically into training, validation and test. The authors use \"*a 7-fold cross-validation approach [...]: 5 folds were used as a training set, 1 fold as a validation set, and 1 fold as a test set.*\"\n",
    "- Adjust the training hyperparameters: \"*16GB. The training was performed using 50 epochs, the Adam optimizer with a learning rate of 0.0001 with no weight decay. The Dice loss was used for training. [...] We implemented an early stopping mechanism with patience of 5 epochs and tolerance of 0.01 on validation loss. The final evaluation is performed on the test set.*\"\n",
    "\n",
    "> The final goal is to train a model that estimates the severity of a wildfire using post-wildfire (1 month after) imagery, and then to run inference with the satellite images from wildfires in Catalunya in the last decade. Severity estimation will be done at the pixel level.\n",
    "\n",
    "We are going to use the U-Net architecture:\n",
    "\n",
    "![U-Net model](unet_diagram.jpg)"
   ]
  },
  {
   "cell_type": "markdown",
   "id": "00376db1",
   "metadata": {},
   "source": [
    "# 1. Preparing the data"
   ]
  },
  {
   "cell_type": "markdown",
   "id": "4acd27ce",
   "metadata": {},
   "source": [
    "## 1.1. Getting the image and masks paths"
   ]
  },
  {
   "cell_type": "code",
   "execution_count": 3,
   "id": "a370aabd",
   "metadata": {},
   "outputs": [
    {
     "name": "stdout",
     "output_type": "stream",
     "text": [
      "First 5 fire folders:\n",
      "['EMSR207_01MIRANDADOCORVO_02GRADING_MAP_v2_vector', 'EMSR207_02LOUSA_02GRADING_MAP_v2_vector', 'EMSR207_03PAMPILHOSADASERRA_02GRADING_MAP_v2_vector', 'EMSR207_04AVELAR_02GRADING_MAP_v2_vector', 'EMSR207_05PEDROGAOGRANDE_02GRADING_MAP_v2_vector']\n",
      "Total number of fire folders: 73\n",
      "Fire folder: EMSR207_01MIRANDADOCORVO_02GRADING_MAP_v2_vector\n",
      "Fire folder: EMSR207_02LOUSA_02GRADING_MAP_v2_vector\n",
      "Fire folder: EMSR207_03PAMPILHOSADASERRA_02GRADING_MAP_v2_vector\n",
      "Fire folder: EMSR207_04AVELAR_02GRADING_MAP_v2_vector\n",
      "Fire folder: EMSR207_05PEDROGAOGRANDE_02GRADING_MAP_v2_vector\n",
      "Fire folder: EMSR207_06MADEIRA_02GRADING_MAP_v2_vector\n",
      "Fire folder: EMSR207_07ALVAIAZERE_02GRADING_MAP_v2_vector\n",
      "Fire folder: EMSR207_08CERNACHEDOBONJARDIM_02GRADING_MAP_v2_vector\n",
      "Fire folder: EMSR207_10ORVALHO_02GRADING_MAP_v2_vector\n",
      "Fire folder: EMSR209_01MOGUER_02GRADING_MAP_v2_vector\n",
      "Fire folder: EMSR209_02MAZAGON_02GRADING_MAP_v2_vector\n",
      "Fire folder: EMSR209_03LOSCABEZUDOS_02GRADING_MAP_v1_vector\n",
      "Fire folder: EMSR209_04CHOZASDELAPOLEOSA_02GRADING_MAP_v1_vector\n",
      "Fire folder: EMSR209_05MAZAGONDETAIL01_02GRADING_MAP_v1_vector\n",
      "Fire folder: EMSR210_03ELCAMPILLO_02GRADING_MAP_v1_vector\n",
      "Fire folder: EMSR210_04TRASLASIERRA_02GRADING_MAP_v2_vector\n",
      "Fire folder: EMSR210_05ELCAMPILLOOVERVIEW_02GRADING_MAP_v1_vector\n",
      "Fire folder: EMSR211_01SONEJAWEST_02GRADING_MAP_v1_vector\n",
      "Fire folder: EMSR211_02SONEJA_02GRADING_MAP_v1_vector\n",
      "Fire folder: EMSR213_01VESUVIO_02GRADING_MAP_v2_vector\n",
      "Fire folder: EMSR213_03FRANCOFONTE_02GRADING_MAP_v1_vector\n",
      "Fire folder: EMSR213_04AVOLA_02GRADING_MAP_v1_vector\n",
      "Fire folder: EMSR213_06MONREALE_02GRADING_MAP_v2_vector\n",
      "Fire folder: EMSR213_07SANVITOLOCAPO_02GRADING_MAP_v2_vector\n",
      "Fire folder: EMSR213_08BLUFI_02GRADING_MAP_v2_vector\n",
      "Fire folder: EMSR213_09MISTRETTA_02GRADING_MAP_v2_vector\n",
      "Fire folder: EMSR213_10MESSINA_02GRADING_MAP_v1_vector\n",
      "Fire folder: EMSR213_11NASO_02GRADING_MAP_v1_vector\n",
      "Fire folder: EMSR213_12ETNANORD_02GRADING_MAP_v1_vector\n",
      "Fire folder: EMSR214_01OLMETA_02GRADING_MAP_v2_vector\n",
      "Fire folder: EMSR214_02LABASTIDONNE_02GRADING_MAP_v1_vector\n",
      "Fire folder: EMSR214_04MARSEILLE_02GRADING_MAP_v1_vector\n",
      "Fire folder: EMSR214_05LELAVANDOU_02GRADING_MAP_v1_vector\n",
      "Fire folder: EMSR214_06COGOLIN_02GRADING_MAP_v2_vector\n",
      "Fire folder: EMSR216_01LOSCOLLADOS_02GRADING_MAP_v1_vector\n",
      "Fire folder: EMSR216_02TORREPEDRO_02GRADING_MAP_v1_vector\n",
      "Fire folder: EMSR216_04RALA_02GRADING_MAP_v1_vector\n",
      "Fire folder: EMSR216_05ELCALAR_02GRADING_MAP_v2_vector\n",
      "Fire folder: EMSR217_01DUKAT_02GRADING_MAP_v2_vector\n",
      "Fire folder: EMSR217_02VRANISHT_02GRADING_MAP_v1_vector\n",
      "Fire folder: EMSR217_03SLLATINE_02GRADING_MAP_v2_vector\n",
      "Fire folder: EMSR217_04DAJTI_02GRADING_MAP_v1_vector\n",
      "Fire folder: EMSR219_01SEGURADELASIERRA_02GRADING_MAP_v1_vector\n",
      "Fire folder: EMSR221_01OGLIASTRO_02GRADING_MAP_v2_vector\n",
      "Fire folder: EMSR226_01DABA_02GRADING_MAP_v1_vector\n",
      "Fire folder: EMSR227_01ENCINEDO_02GRADING_MAP_v2_vector\n",
      "Fire folder: EMSR227_02CORPORALES_02GRADING_MAP_v2_vector\n",
      "Fire folder: EMSR227_03SANTAEULALIADECABRERA_02GRADING_MAP_v2_vector\n",
      "Fire folder: EMSR227_04TRUCHILLAS_02GRADING_MAP_v2_vector\n",
      "Fire folder: EMSR237_03ELMADRONO_02GRADING_MAP_v1_vector\n",
      "Fire folder: EMSR237_04ELCASTILLODELASGUARDAS_02GRADING_MAP_v1_vector\n",
      "Fire folder: EMSR239_05ALMADENDELAPLATAOVERVIEW_02GRADING_MAP_v1_vector\n",
      "Fire folder: EMSR248_01PINODELORO_02GRADING_MAP_v1_vector\n",
      "Fire folder: EMSR248_04HOYOSDEMIGUELMUNOZ_02GRADING_MAP_v1_vector\n",
      "Fire folder: EMSR250_01MARINHAGRANDE_02GRADING_MAP_v2_vector\n",
      "Fire folder: EMSR250_04CORTES_02GRADING_MAP_v2_vector\n",
      "Fire folder: EMSR252_02HAUTECORSEDETAIL_02GRADING_MAP_v1_vector\n",
      "Fire folder: EMSR254_01PORTELADEAGUIAR_02GRADING_MAP_v2_vector\n",
      "Fire folder: EMSR254_02SILVAN_02GRADING_MAP_v2_vector\n",
      "Fire folder: EMSR254_03PERENADELARIBERA_02GRADING_MAP_v2_vector\n",
      "Fire folder: EMSR281_01KIRTOMY_02GRADING_MAP_v1_vector\n",
      "Fire folder: EMSR290_03MANSBO_02GRADING_MAP_v1_vector\n",
      "Fire folder: EMSR298_02HAMMARSTRAND_02GRADING_MAP_v1_vector\n",
      "Fire folder: EMSR298_05STRANDASMYRVALLEN_02GRADING_MAP_v1_vector\n",
      "Fire folder: EMSR298_06GROTINGEN_02GRADING_MAP_v1_vector\n",
      "Fire folder: EMSR302_01NERVA_02GRADING_MAP_v1_vector\n",
      "Fire folder: EMSR302_06NERVADETAIL_02GRADING_MAP_v1_vector\n",
      "Fire folder: EMSR302_07ELPERALEJO_02GRADING_MAP_v1_vector\n",
      "Fire folder: EMSR365_AOI01_GRA_PRODUCT_r1_RTP01_v1_vector\n",
      "Fire folder: EMSR368_AOI01_GRA_PRODUCT_r1_RTP01_v3_vector\n",
      "Fire folder: EMSR371_AOI01_GRA_PRODUCT_r1_RTP01_v2_vector\n",
      "Fire folder: EMSR372_AOI04_GRA_PRODUCT_r1_RTP01_v3_vector\n",
      "Fire folder: EMSR373_AOI01_GRA_PRODUCT_r1_RTP01_v2_vector\n",
      "First 5 image and label paths of the fire folder: EMSR207_01MIRANDADOCORVO_02GRADING_MAP_v2_vector\n",
      "['/media/pablo/Shared files/data/tiled_labelled_dataset/EMSR207_01MIRANDADOCORVO_02GRADING_MAP_v2_vector/images/sentinel1_2017-07-01_tile_0_0.tiff', '/media/pablo/Shared files/data/tiled_labelled_dataset/EMSR207_01MIRANDADOCORVO_02GRADING_MAP_v2_vector/images/sentinel1_2017-07-01_tile_0_1.tiff', '/media/pablo/Shared files/data/tiled_labelled_dataset/EMSR207_01MIRANDADOCORVO_02GRADING_MAP_v2_vector/images/sentinel1_2017-07-01_tile_0_2.tiff', '/media/pablo/Shared files/data/tiled_labelled_dataset/EMSR207_01MIRANDADOCORVO_02GRADING_MAP_v2_vector/images/sentinel1_2017-07-01_tile_0_3.tiff', '/media/pablo/Shared files/data/tiled_labelled_dataset/EMSR207_01MIRANDADOCORVO_02GRADING_MAP_v2_vector/images/sentinel1_2017-07-01_tile_0_4.tiff']\n",
      "['/media/pablo/Shared files/data/tiled_labelled_dataset/EMSR207_01MIRANDADOCORVO_02GRADING_MAP_v2_vector/masks/EMSR207_01MIRANDADOCORVO_02GRADING_MAP_v2_vector_mask_tile_0_0.tiff', '/media/pablo/Shared files/data/tiled_labelled_dataset/EMSR207_01MIRANDADOCORVO_02GRADING_MAP_v2_vector/masks/EMSR207_01MIRANDADOCORVO_02GRADING_MAP_v2_vector_mask_tile_0_1.tiff', '/media/pablo/Shared files/data/tiled_labelled_dataset/EMSR207_01MIRANDADOCORVO_02GRADING_MAP_v2_vector/masks/EMSR207_01MIRANDADOCORVO_02GRADING_MAP_v2_vector_mask_tile_0_2.tiff', '/media/pablo/Shared files/data/tiled_labelled_dataset/EMSR207_01MIRANDADOCORVO_02GRADING_MAP_v2_vector/masks/EMSR207_01MIRANDADOCORVO_02GRADING_MAP_v2_vector_mask_tile_0_3.tiff', '/media/pablo/Shared files/data/tiled_labelled_dataset/EMSR207_01MIRANDADOCORVO_02GRADING_MAP_v2_vector/masks/EMSR207_01MIRANDADOCORVO_02GRADING_MAP_v2_vector_mask_tile_0_4.tiff']\n",
      "Total number of fire folders in image_paths: 73\n",
      "Total number of fire folders in label_paths: 73\n"
     ]
    }
   ],
   "source": [
    "# Get all of the folders within the tiles directory\n",
    "fire_folders = sorted([f for f in os.listdir(tile_dir) if os.path.isdir(os.path.join(tile_dir, f))])\n",
    "# Print the first 5 folders\n",
    "print(\"First 5 fire folders:\")\n",
    "print(fire_folders[:5])\n",
    "# Print the total number of fire folders\n",
    "print(\"Total number of fire folders:\", len(fire_folders))\n",
    "\n",
    "# Get the paths for the images and the labels\n",
    "image_paths = []\n",
    "label_paths = []\n",
    "for fire_folder in fire_folders:\n",
    "    print(f\"Fire folder: {fire_folder}\")\n",
    "    images_path = os.path.join(tile_dir, fire_folder, 'images')\n",
    "    labels_path = os.path.join(tile_dir, fire_folder, 'masks')\n",
    "    if os.path.exists(images_path):\n",
    "        image_paths.append(sorted([os.path.join(images_path, img) for img in os.listdir(images_path) if img.startswith(f'sentinel{sentinel_type}') and img.endswith('.tiff')]))\n",
    "    else:\n",
    "        print(f\"Images path does not exist: {images_path}\")\n",
    "    if os.path.exists(labels_path):\n",
    "        label_paths.append(sorted([os.path.join(labels_path, lbl) for lbl in os.listdir(labels_path) if lbl.endswith('.tiff')]))\n",
    "    else:\n",
    "        print(f\"Labels path does not exist: {labels_path}\")\n",
    "# Print the first 5 image paths\n",
    "print(f\"First 5 image and label paths of the fire folder: {fire_folders[0]}\")\n",
    "print(image_paths[0][:5])  # The result is a list of lists, where each sublist contains the paths of images for a specific fire folder\n",
    "print(label_paths[0][:5])  # The result is a list of lists, where each sublist contains the paths of labels for a specific fire folder\n",
    "\n",
    "# Print the total number of lists in image_paths and label_paths (should be equal to the number of fire folders)\n",
    "print(\"Total number of fire folders in image_paths:\", len(image_paths))\n",
    "print(\"Total number of fire folders in label_paths:\", len(label_paths))"
   ]
  },
  {
   "cell_type": "markdown",
   "id": "8039fb90",
   "metadata": {},
   "source": [
    "## 1.2. Loading the image and masks into tensors"
   ]
  },
  {
   "cell_type": "markdown",
   "id": "ca35ad45",
   "metadata": {},
   "source": [
    "We load the images and labels as `torch.Tensor` of dimensions $n \\times d \\times h \\times w$, where:\n",
    "- $n$: number of images (tiles)/masks.\n",
    "- $d$: number of channels for the images/masks.\n",
    "- $h$: height of the images and of the masks. Both are of 256 height, as designed in `3_preprocessing`.\n",
    "- $w$: width of the images and of the masks. Both are of 256 height, as designed in `3_preprocessing`.\n",
    "\n",
    "We normalize each channel to $N[0,1]$ and set the data type as `torch.float32` (set to `torch.float16` for greater memory efficiency). Why we normalize image channels:\n",
    "\n",
    "1. **Gradient stability**: Different channels may have vastly different value ranges, leading to unstable gradients\n",
    "2. **Training speed**: Normalized inputs help the optimizer converge faster\n",
    "3. **Weight initialization**: Most weight initialization schemes assume normalized inputs\n",
    "4. **Activation functions**: Work optimally with inputs in specific ranges"
   ]
  },
  {
   "cell_type": "code",
   "execution_count": 38,
   "id": "51930ac3",
   "metadata": {},
   "outputs": [],
   "source": [
    "# Flatten the lists of image and label paths\n",
    "images_flat = [item for sublist in image_paths for item in sublist]\n",
    "labels_flat = [item for sublist in label_paths for item in sublist]\n",
    "\n",
    "# Remember that there are no S1 images for the event \"EMSR368_AOI01_GRA_PRODUCT_r1_RTP01_v3_vector\"\n",
    "# (shown in the preprocessing notebook), so we will remove them from the labels list\n",
    "labels_flat = [label for label in labels_flat if 'EMSR368_AOI01_GRA_PRODUCT_r1_RTP01_v3_vector' not in label]\n",
    "\n",
    "# Read images and labels and stack them into a single tensor (reduce precision to float16 for greater efficiency)\n",
    "images = torch.stack([utilities.read_tiff_to_torch(file_path = image, dtype=torch.float32, normalize=True, normalization_method='per_channel') for image in images_flat])\n",
    "labels_raw = torch.stack([utilities.read_tiff_to_torch(file_path = label, dtype = torch.float32, normalize=True, normalization_method='255') for label in labels_flat])  # Masks are encoded in 0-255 range according to the paper"
   ]
  },
  {
   "cell_type": "markdown",
   "id": "b97750c0",
   "metadata": {},
   "source": [
    "Now, let's check the array dimensions and display several image–label pairs to ensure that they are correctly aligned."
   ]
  },
  {
   "cell_type": "code",
   "execution_count": 39,
   "id": "03ca9eb5",
   "metadata": {},
   "outputs": [
    {
     "name": "stdout",
     "output_type": "stream",
     "text": [
      "Size of the image tensor: torch.Size([3176, 4, 256, 256])\n",
      "Size of the label tensor: torch.Size([3176, 1, 256, 256])\n"
     ]
    }
   ],
   "source": [
    "print('Size of the image tensor:', images.size())\n",
    "print('Size of the label tensor:', labels_raw.size())\n",
    "\n",
    "# Check if the number of images and labels are equal\n",
    "if images.size(0) != labels_raw.size(0):\n",
    "    raise ValueError('Number of images and labels do not match!')"
   ]
  },
  {
   "cell_type": "markdown",
   "id": "c76cea89",
   "metadata": {},
   "source": [
    "i.e., in this case:\n",
    "\n",
    "- $n$: we have 3,176 images and masks (3,374 images before removing those without coverage in the EDA notebook; and there were 54 images missing images from Sentinel-1 for a wildfire in the dataset).\n",
    "- $d$: number of channels for the images/masks. The images have 4 dimensions (VV, 2VH, |VV|/|VH|/100 plus the coverage -validity- mask, in this order, see https://documentation.dataspace.copernicus.eu/APIs/SentinelHub/Data/S1GRD.html#available-bands-and-data).\n",
    "- $h$: height of the images and of the masks. Both are of 256 height, as designed in `3_preprocessing`.\n",
    "- $w$: width of the images and of the masks. Both are of 256 height, as designed in `3_preprocessing`.\n",
    "\n",
    "For simplicity, we will not be removing the coverage mask dimension as it will not affect training (all pixels without coverage were already removed in the EDA notebook, so the values are uniform)."
   ]
  },
  {
   "cell_type": "markdown",
   "id": "4be37b47",
   "metadata": {},
   "source": [
    "## 1.3. Checking the alignment: displaying several image-label pairs\n",
    "\n",
    "Input channels for these Sentinel-1 images are (in this order): VV, VH, VV/VH ratio, and VV/VH difference. A common and informative false-color composite for dual-polarization (VV+VH) Sentinel-1 data uses VV for the red channel, VH for the green channel, and the VV/VH ratio for the blue channel. This helps distinguish between different land cover types."
   ]
  },
  {
   "cell_type": "code",
   "execution_count": 45,
   "id": "f066cdf0",
   "metadata": {},
   "outputs": [
    {
     "data": {
      "image/png": "[encoded data removed]",
      "text/plain": [
       "<Figure size 400x400 with 1 Axes>"
      ]
     },
     "metadata": {},
     "output_type": "display_data"
    },
    {
     "data": {
      "image/png": "[encoded data removed]",
      "text/plain": [
       "<Figure size 400x400 with 1 Axes>"
      ]
     },
     "metadata": {},
     "output_type": "display_data"
    },
    {
     "data": {
      "image/png": "[encoded data removed]",
      "text/plain": [
       "<Figure size 400x400 with 1 Axes>"
      ]
     },
     "metadata": {},
     "output_type": "display_data"
    },
    {
     "data": {
      "image/png": "[encoded data removed]",
      "text/plain": [
       "<Figure size 400x400 with 1 Axes>"
      ]
     },
     "metadata": {},
     "output_type": "display_data"
    }
   ],
   "source": [
    "# Displays random images, labels and images\n",
    "for i in torch.randint(0, len(images), (2,)):\n",
    "  visualizations.display_image(image = images[i], title = 'S1 False-Color (R:VV, G:VH, B:VV/VH)', rgb_bands=(0, 1, 2))\n",
    "  visualizations.display_image(image = labels_raw[i], title = 'Label')"
   ]
  },
  {
   "cell_type": "markdown",
   "id": "a2b1ea53",
   "metadata": {},
   "source": [
    "Note that, in this case, **the brighter the label in the mask, the higher the severity of the fire (white if maximum severity)**. Areas affected by fires of lower severity are darker. "
   ]
  },
  {
   "cell_type": "markdown",
   "id": "78295174",
   "metadata": {},
   "source": [
    "## 1.4. Mapping the classes to integers "
   ]
  },
  {
   "cell_type": "code",
   "execution_count": 7,
   "id": "d9da24ed",
   "metadata": {},
   "outputs": [],
   "source": [
    "# Apply the mapping\n",
    "labels = utilities.map_labels_to_classes_approximate(labels_raw)\n",
    "\n",
    "del labels_raw  # Free up memory"
   ]
  },
  {
   "cell_type": "code",
   "execution_count": 8,
   "id": "a3f8b11e",
   "metadata": {},
   "outputs": [
    {
     "name": "stdout",
     "output_type": "stream",
     "text": [
      "Unique values in the labels tensor after mapping: tensor([0, 1, 2, 3, 4])\n"
     ]
    }
   ],
   "source": [
    "# Print the unique values in the labels tensor to verify the mapping\n",
    "print(\"Unique values in the labels tensor after mapping:\", torch.unique(labels))"
   ]
  },
  {
   "cell_type": "markdown",
   "id": "707f6cb1",
   "metadata": {},
   "source": [
    "## 1.5. Formatting the data as a `TensorDataset`\n",
    "\n",
    "Useful documentation: [`torch.utils.data`](https://pytorch.org/docs/stable/data.html)"
   ]
  },
  {
   "cell_type": "code",
   "execution_count": 9,
   "id": "e95a12d3",
   "metadata": {},
   "outputs": [
    {
     "name": "stdout",
     "output_type": "stream",
     "text": [
      "3176\n"
     ]
    }
   ],
   "source": [
    "# Format the data as a TensorDataset\n",
    "dataset = utils.data.TensorDataset(images, labels)  # Create a TensorDataset from the image and label tensors\n",
    "print(len(dataset))"
   ]
  },
  {
   "cell_type": "markdown",
   "id": "873d3bce",
   "metadata": {},
   "source": [
    "## 1.6. Splitting data into train, validation and test\n",
    "\n",
    "We split into 70% training data, 15% validation and 15% test."
   ]
  },
  {
   "cell_type": "code",
   "execution_count": 10,
   "id": "a66a3aa6",
   "metadata": {},
   "outputs": [],
   "source": [
    "# Split the dataset into training, validation and test sets\n",
    "train_dataset, val_dataset, test_dataset = utils.data.random_split(dataset, [0.7, 0.15, 0.15], generator=torch.Generator().manual_seed(seed))\n",
    "\n",
    "# Set batch size\n",
    "batch_size = 64\n",
    "\n",
    "# Set number of physical CPU cores (as int) to use for data loading\n",
    "num_workers = os.cpu_count() // 2 if os.cpu_count() is not None else 0\n",
    "\n",
    "# Create DataLoaders for each dataset\n",
    "train_loader = utils.data.DataLoader(\n",
    "    train_dataset, \n",
    "    batch_size=batch_size, \n",
    "    shuffle=True,  # Shuffle the training data to prevent learning order bias, overfitting and improve generalization\n",
    "    num_workers=num_workers,  # Use multiple workers for faster data loading\n",
    "    pin_memory=True if device == 'cuda' else False,  # Pin memory for faster data transfer to GPU\n",
    ")\n",
    "\n",
    "val_loader = utils.data.DataLoader(\n",
    "    val_dataset, \n",
    "    batch_size=batch_size, \n",
    "    shuffle=False,  # Keep validation data in the same order for consistent evaluation\n",
    "    num_workers=num_workers,  # Use multiple workers for faster data loading\n",
    "    pin_memory=True if device == 'cuda' else False,  # Pin memory for faster data transfer to GPU\n",
    ")\n",
    "\n",
    "test_loader = utils.data.DataLoader(\n",
    "    test_dataset, \n",
    "    batch_size=batch_size, \n",
    "    shuffle=False,  # Keep test data in the same order for consistent evaluation\n",
    "    num_workers=num_workers,  # Use multiple workers for faster data loading\n",
    "    pin_memory=True if device == 'cuda' else False,  # Pin memory for faster data transfer to GPU\n",
    ")"
   ]
  },
  {
   "cell_type": "markdown",
   "id": "5fd39391",
   "metadata": {},
   "source": [
    "# 2. Training and validation"
   ]
  },
  {
   "cell_type": "markdown",
   "id": "1976517d",
   "metadata": {},
   "source": [
    "## 2.1. Neural Network Architecture\n",
    "\n",
    "![U-Net model](unet_diagram.jpg)\n",
    "\n",
    "The basic structure of this network is the following:\n",
    "\n",
    "1. **Input**: a tensor of shape $(N, D, H, W)$.\n",
    "2. **Encode** down through five levels, doubling channels each time and halving spatial dimensions.\n",
    "3. **Bottleneck**: deepest features at 128 channels.\n",
    "4. **Decode** back up, halving channels and doubling spatial dimensions, while concatenating corresponding encoder features to preserve fine details.\n",
    "5. **Output**: apply a 1×1 convolution → Sigmoid to produce a mask of shape $(N, 1, H, W)$ with values in (0,1).\n",
    "\n",
    "All of the classes below initialize the parameters at each layer with `__init__` and then implement a `forward` method that defines the forward pass of the neural network, which \"takes the input data and passes it through the layers of the network to produce the output. This method is executed whenever the model is called to make a prediction or to compute the loss during training\" ([reference](https://discuss.pytorch.org/t/what-is-the-difference-init-and-forward-in-a-network-model/173907)).\n",
    "\n",
    "### The double convolution\n",
    "\n",
    "The two convolutional layers are included everywhere in the network, from the encoding to the decoding. For more information, check `DoubleConv` in the library `library`.\n",
    "\n",
    "Useful sources:\n",
    "- [`Conv2d`](https://pytorch.org/docs/stable/generated/torch.nn.Conv2d.html#torch.nn.Conv2d) - convolutional layer\n",
    "- [`BatchNorm2d`](https://pytorch.org/docs/stable/generated/torch.nn.BatchNorm2d.html#torch.nn.BatchNorm2d) - normalization layer\n",
    "- [`ReLU`](https://pytorch.org/docs/stable/generated/torch.nn.ReLU.html#torch.nn.ReLU) - non-linear activation function\n",
    "\n",
    "### The encoder module (`Down`)\n",
    "\n",
    "The class below represents one encoding step. For more information, check `Down` in the library `library`.\n",
    "\n",
    "Useful sources:\n",
    "- [`MaxPool2d`](https://pytorch.org/docs/stable/generated/torch.nn.MaxPool2d.html#torch.nn.MaxPool2d) - pooling layer\n",
    "\n",
    "### The decoder module (`Up`)\n",
    "\n",
    "This class represents one decoding step. It performs upsampling and concatenation with skip connection. For more information, check `Up` in the library `library`.\n",
    "\n",
    "This class:\n",
    "\n",
    "1. Upsamples via either bilinear interpolation or a learnable transposed convolution. See [`nn.Upsample`](https://pytorch.org/docs/stable/generated/torch.nn.Upsample.html#torch.nn.Upsample)\n",
    "2. Pads if the resulting feature-map is off by 1 pixel in height/width. See [`nn.functional.pad`](https://pytorch.org/docs/stable/generated/torch.nn.functional.pad.html#torch.nn.functional.pad)\n",
    "3. Concatenates with the corresponding encoder feature-map along the channel dimension (the “skip connection”). See [`torch.cat`](https://pytorch.org/docs/stable/generated/torch.cat.html)\n",
    "4. Uses `DoubleConv` to fuse and refine these combined features.\n",
    "\n",
    "### Final 1 $\\times$ 1 convolution\n",
    "\n",
    "This convolution reduces the channels from whatever the last decoder output is (in the diagram, 8) down to the desired number of classes (1 for binary mask, as in this case - 0 for no building and 1 for building). For more information, check `OutConv` in the library `library`.\n",
    "\n",
    "### Putting all together in `UNet`\n",
    "\n",
    "This class uses the constructions made above, and replicates the structure of the neural network in the diagram. For more information, check `UNet` in the library `library`.\n",
    "\n",
    "Note that the output layer returns the logits, not probabilities, for compatibility with the loss function."
   ]
  },
  {
   "cell_type": "markdown",
   "id": "27b13ff4",
   "metadata": {},
   "source": [
    "## 2.2. Training setup"
   ]
  },
  {
   "cell_type": "markdown",
   "id": "df7577a5",
   "metadata": {},
   "source": [
    "### Model initialization"
   ]
  },
  {
   "cell_type": "code",
   "execution_count": 11,
   "id": "3ecf6d6e",
   "metadata": {},
   "outputs": [
    {
     "name": "stdout",
     "output_type": "stream",
     "text": [
      "UNet(\n",
      "  (inc): DoubleConv(\n",
      "    (double_conv): Sequential(\n",
      "      (0): Conv2d(4, 8, kernel_size=(3, 3), stride=(1, 1), padding=(1, 1), bias=False)\n",
      "      (1): BatchNorm2d(8, eps=1e-05, momentum=0.1, affine=True, track_running_stats=True)\n",
      "      (2): ReLU(inplace=True)\n",
      "      (3): Conv2d(8, 8, kernel_size=(3, 3), stride=(1, 1), padding=(1, 1), bias=False)\n",
      "      (4): BatchNorm2d(8, eps=1e-05, momentum=0.1, affine=True, track_running_stats=True)\n",
      "      (5): ReLU(inplace=True)\n",
      "      (6): Dropout2d(p=0.1, inplace=False)\n",
      "    )\n",
      "  )\n",
      "  (down1): Down(\n",
      "    (pool_conv): Sequential(\n",
      "      (0): MaxPool2d(kernel_size=2, stride=2, padding=0, dilation=1, ceil_mode=False)\n",
      "      (1): DoubleConv(\n",
      "        (double_conv): Sequential(\n",
      "          (0): Conv2d(8, 16, kernel_size=(3, 3), stride=(1, 1), padding=(1, 1), bias=False)\n",
      "          (1): BatchNorm2d(16, eps=1e-05, momentum=0.1, affine=True, track_running_stats=True)\n",
      "          (2): ReLU(inplace=True)\n",
      "          (3): Conv2d(16, 16, kernel_size=(3, 3), stride=(1, 1), padding=(1, 1), bias=False)\n",
      "          (4): BatchNorm2d(16, eps=1e-05, momentum=0.1, affine=True, track_running_stats=True)\n",
      "          (5): ReLU(inplace=True)\n",
      "          (6): Dropout2d(p=0.1, inplace=False)\n",
      "        )\n",
      "      )\n",
      "    )\n",
      "  )\n",
      "  (down2): Down(\n",
      "    (pool_conv): Sequential(\n",
      "      (0): MaxPool2d(kernel_size=2, stride=2, padding=0, dilation=1, ceil_mode=False)\n",
      "      (1): DoubleConv(\n",
      "        (double_conv): Sequential(\n",
      "          (0): Conv2d(16, 32, kernel_size=(3, 3), stride=(1, 1), padding=(1, 1), bias=False)\n",
      "          (1): BatchNorm2d(32, eps=1e-05, momentum=0.1, affine=True, track_running_stats=True)\n",
      "          (2): ReLU(inplace=True)\n",
      "          (3): Conv2d(32, 32, kernel_size=(3, 3), stride=(1, 1), padding=(1, 1), bias=False)\n",
      "          (4): BatchNorm2d(32, eps=1e-05, momentum=0.1, affine=True, track_running_stats=True)\n",
      "          (5): ReLU(inplace=True)\n",
      "          (6): Dropout2d(p=0.1, inplace=False)\n",
      "        )\n",
      "      )\n",
      "    )\n",
      "  )\n",
      "  (down3): Down(\n",
      "    (pool_conv): Sequential(\n",
      "      (0): MaxPool2d(kernel_size=2, stride=2, padding=0, dilation=1, ceil_mode=False)\n",
      "      (1): DoubleConv(\n",
      "        (double_conv): Sequential(\n",
      "          (0): Conv2d(32, 64, kernel_size=(3, 3), stride=(1, 1), padding=(1, 1), bias=False)\n",
      "          (1): BatchNorm2d(64, eps=1e-05, momentum=0.1, affine=True, track_running_stats=True)\n",
      "          (2): ReLU(inplace=True)\n",
      "          (3): Conv2d(64, 64, kernel_size=(3, 3), stride=(1, 1), padding=(1, 1), bias=False)\n",
      "          (4): BatchNorm2d(64, eps=1e-05, momentum=0.1, affine=True, track_running_stats=True)\n",
      "          (5): ReLU(inplace=True)\n",
      "          (6): Dropout2d(p=0.1, inplace=False)\n",
      "        )\n",
      "      )\n",
      "    )\n",
      "  )\n",
      "  (down4): Down(\n",
      "    (pool_conv): Sequential(\n",
      "      (0): MaxPool2d(kernel_size=2, stride=2, padding=0, dilation=1, ceil_mode=False)\n",
      "      (1): DoubleConv(\n",
      "        (double_conv): Sequential(\n",
      "          (0): Conv2d(64, 128, kernel_size=(3, 3), stride=(1, 1), padding=(1, 1), bias=False)\n",
      "          (1): BatchNorm2d(128, eps=1e-05, momentum=0.1, affine=True, track_running_stats=True)\n",
      "          (2): ReLU(inplace=True)\n",
      "          (3): Conv2d(128, 128, kernel_size=(3, 3), stride=(1, 1), padding=(1, 1), bias=False)\n",
      "          (4): BatchNorm2d(128, eps=1e-05, momentum=0.1, affine=True, track_running_stats=True)\n",
      "          (5): ReLU(inplace=True)\n",
      "          (6): Dropout2d(p=0.1, inplace=False)\n",
      "        )\n",
      "      )\n",
      "    )\n",
      "  )\n",
      "  (up1): Up(\n",
      "    (up): ConvTranspose2d(128, 64, kernel_size=(2, 2), stride=(2, 2))\n",
      "    (conv): DoubleConv(\n",
      "      (double_conv): Sequential(\n",
      "        (0): Conv2d(128, 64, kernel_size=(3, 3), stride=(1, 1), padding=(1, 1), bias=False)\n",
      "        (1): BatchNorm2d(64, eps=1e-05, momentum=0.1, affine=True, track_running_stats=True)\n",
      "        (2): ReLU(inplace=True)\n",
      "        (3): Conv2d(64, 64, kernel_size=(3, 3), stride=(1, 1), padding=(1, 1), bias=False)\n",
      "        (4): BatchNorm2d(64, eps=1e-05, momentum=0.1, affine=True, track_running_stats=True)\n",
      "        (5): ReLU(inplace=True)\n",
      "        (6): Dropout2d(p=0.1, inplace=False)\n",
      "      )\n",
      "    )\n",
      "  )\n",
      "  (up2): Up(\n",
      "    (up): ConvTranspose2d(64, 32, kernel_size=(2, 2), stride=(2, 2))\n",
      "    (conv): DoubleConv(\n",
      "      (double_conv): Sequential(\n",
      "        (0): Conv2d(64, 32, kernel_size=(3, 3), stride=(1, 1), padding=(1, 1), bias=False)\n",
      "        (1): BatchNorm2d(32, eps=1e-05, momentum=0.1, affine=True, track_running_stats=True)\n",
      "        (2): ReLU(inplace=True)\n",
      "        (3): Conv2d(32, 32, kernel_size=(3, 3), stride=(1, 1), padding=(1, 1), bias=False)\n",
      "        (4): BatchNorm2d(32, eps=1e-05, momentum=0.1, affine=True, track_running_stats=True)\n",
      "        (5): ReLU(inplace=True)\n",
      "        (6): Dropout2d(p=0.1, inplace=False)\n",
      "      )\n",
      "    )\n",
      "  )\n",
      "  (up3): Up(\n",
      "    (up): ConvTranspose2d(32, 16, kernel_size=(2, 2), stride=(2, 2))\n",
      "    (conv): DoubleConv(\n",
      "      (double_conv): Sequential(\n",
      "        (0): Conv2d(32, 16, kernel_size=(3, 3), stride=(1, 1), padding=(1, 1), bias=False)\n",
      "        (1): BatchNorm2d(16, eps=1e-05, momentum=0.1, affine=True, track_running_stats=True)\n",
      "        (2): ReLU(inplace=True)\n",
      "        (3): Conv2d(16, 16, kernel_size=(3, 3), stride=(1, 1), padding=(1, 1), bias=False)\n",
      "        (4): BatchNorm2d(16, eps=1e-05, momentum=0.1, affine=True, track_running_stats=True)\n",
      "        (5): ReLU(inplace=True)\n",
      "        (6): Dropout2d(p=0.1, inplace=False)\n",
      "      )\n",
      "    )\n",
      "  )\n",
      "  (up4): Up(\n",
      "    (up): ConvTranspose2d(16, 8, kernel_size=(2, 2), stride=(2, 2))\n",
      "    (conv): DoubleConv(\n",
      "      (double_conv): Sequential(\n",
      "        (0): Conv2d(16, 8, kernel_size=(3, 3), stride=(1, 1), padding=(1, 1), bias=False)\n",
      "        (1): BatchNorm2d(8, eps=1e-05, momentum=0.1, affine=True, track_running_stats=True)\n",
      "        (2): ReLU(inplace=True)\n",
      "        (3): Conv2d(8, 8, kernel_size=(3, 3), stride=(1, 1), padding=(1, 1), bias=False)\n",
      "        (4): BatchNorm2d(8, eps=1e-05, momentum=0.1, affine=True, track_running_stats=True)\n",
      "        (5): ReLU(inplace=True)\n",
      "        (6): Dropout2d(p=0.1, inplace=False)\n",
      "      )\n",
      "    )\n",
      "  )\n",
      "  (outc): OutConv(\n",
      "    (conv): Conv2d(8, 5, kernel_size=(1, 1), stride=(1, 1))\n",
      "  )\n",
      ")\n"
     ]
    }
   ],
   "source": [
    "# Set the parameters for the U-Net model\n",
    "n_channels = images.size()[1]  # Number of input channels (4 for Sentinel-1 in this case: VV, VH, VV/VH ratio, and VV/VH difference)\n",
    "n_classes = 5  # Number of output channels (5 classes: 0: not burned, 1-4: burned area with different severity levels, from lower to higher severity)\n",
    "base_filters = 8  # Number of filters in the first layer (check diagram)\n",
    "dropout_p = 0.1  # Dropout probability for regularization\n",
    "bilinear = False  # Use bilinear interpolation for upsampling (True) or transposed convolution (False)\n",
    "\n",
    "# Initialize the model\n",
    "model = nn_model.UNet(\n",
    "    n_channels=n_channels,\n",
    "    n_classes=n_classes, \n",
    "    base_filters=base_filters,\n",
    "    dropout_p=dropout_p,\n",
    "    bilinear=bilinear\n",
    ")\n",
    "model = model.to(device)  # Move the model to the specified device (GPU or CPU)\n",
    "print(model)"
   ]
  },
  {
   "cell_type": "markdown",
   "id": "5c8ca306",
   "metadata": {},
   "source": [
    "### Loss function (addresses class imbalance)\n",
    "\n",
    "Simple weights where we weight more the less common classes, and underweight the most common ones."
   ]
  },
  {
   "cell_type": "code",
   "execution_count": 12,
   "id": "ff84b885",
   "metadata": {},
   "outputs": [
    {
     "name": "stdout",
     "output_type": "stream",
     "text": [
      "Class distribution:\n",
      "Class 0: 170,226,358 pixels (0.8178)\n",
      "Class 1: 21,558,899 pixels (0.1036)\n",
      "Class 2: 5,300,982 pixels (0.0255)\n",
      "Class 3: 5,598,256 pixels (0.0269)\n",
      "Class 4: 5,457,841 pixels (0.0262)\n",
      "\n",
      "Class weights: tensor([0.0487, 0.3848, 1.5648, 1.4818, 1.5199])\n"
     ]
    }
   ],
   "source": [
    "# Calculate class frequencies and weights\n",
    "def calculate_class_weights(labels_tensor, n_classes=5):\n",
    "    \"\"\"\n",
    "    Calculate class weights for handling class imbalance\n",
    "    \"\"\"\n",
    "    # Flatten the labels tensor to count occurrences\n",
    "    labels_flat = labels_tensor.flatten()\n",
    "    \n",
    "    # Count occurrences of each class\n",
    "    class_counts = torch.bincount(labels_flat, minlength=n_classes)\n",
    "    \n",
    "    # Calculate total number of pixels\n",
    "    total_pixels = labels_flat.numel()\n",
    "    \n",
    "    # Calculate class frequencies\n",
    "    class_frequencies = class_counts.float() / total_pixels\n",
    "    \n",
    "    # Calculate inverse frequency weights (more weight for less frequent classes)\n",
    "    class_weights = 1.0 / (class_frequencies + 1e-6)  # Add small epsilon to avoid division by zero\n",
    "    \n",
    "    # Normalize weights so they sum to n_classes (optional, helps with stability)\n",
    "    class_weights = class_weights / class_weights.sum() * n_classes\n",
    "    \n",
    "    return class_weights, class_counts, class_frequencies\n",
    "\n",
    "# Calculate class weights\n",
    "class_weights, class_counts, class_frequencies = calculate_class_weights(labels, n_classes=5)\n",
    "\n",
    "# Print class statistics\n",
    "print(\"Class distribution:\")\n",
    "for i in range(5):\n",
    "    print(f\"Class {i}: {class_counts[i].item():,} pixels ({class_frequencies[i].item():.4f})\")\n",
    "\n",
    "print(f\"\\nClass weights: {class_weights}\")"
   ]
  },
  {
   "cell_type": "code",
   "execution_count": 13,
   "id": "68e2ac30",
   "metadata": {},
   "outputs": [],
   "source": [
    "# Create the loss function with class weights\n",
    "criterion = nn.CrossEntropyLoss(weight=class_weights.to(device))"
   ]
  },
  {
   "cell_type": "markdown",
   "id": "d8c66666",
   "metadata": {},
   "source": [
    "More information about the [`CrossEntropyLoss`](https://docs.pytorch.org/docs/stable/generated/torch.nn.CrossEntropyLoss.html) class. Relevant things to consider:\n",
    "- \"Useful when training a classification problem with *C* classes\".\n",
    "- \"The input is expected to contain the unnormalized logits for each class\"."
   ]
  },
  {
   "cell_type": "markdown",
   "id": "1a697e1f",
   "metadata": {},
   "source": [
    "### Optimization algorithm"
   ]
  },
  {
   "cell_type": "code",
   "execution_count": null,
   "id": "3396ad04",
   "metadata": {},
   "outputs": [],
   "source": [
    "# We set the parameters of the optimizer like the authors of the paper \n",
    "# (see section 0.3 of the notebook)\n",
    "optimizer = torch.optim.Adam(\n",
    "    model.parameters(), \n",
    "    lr=1e-2,  # Learning rate (relatively high to skip plateaus)\n",
    "    weight_decay=1e-5  # Weight decay (L2 regularization)\n",
    ")"
   ]
  },
  {
   "cell_type": "markdown",
   "id": "b63e0836",
   "metadata": {},
   "source": [
    "References: [`torch.optim`](https://pytorch.org/docs/stable/optim.html)"
   ]
  },
  {
   "cell_type": "markdown",
   "id": "f8aedf19",
   "metadata": {},
   "source": [
    "## 2.3. Train-validation routine\n",
    "\n",
    "[Basic guide](https://machinelearningmastery.com/creating-a-training-loop-for-pytorch-models/?utm_source=chatgpt.com) for creating a training loop.\n",
    "\n",
    "This training routine includes (for more information, check out `train_model` in `library`):\n",
    "\n",
    "1. Progress tracking with tqdm progress bars for both training and validation steps\n",
    "2. Loss and IoU calculation for both training and validation sets. The IoU (Intersection over Union) metric is appropriate for segmentation tasks as it measures the overlap between the predicted segmentation and the ground truth.\n",
    "3. Early stopping that monitors validation loss and stops training when no improvement is seen for a certain number of epochs\n",
    "4. Best model saving that saves the model parameters (from the initialization in 5), weights with the lowest validation loss\n",
    "5. Visualization of metrics to monitor the training process and check for overfitting"
   ]
  },
  {
   "cell_type": "markdown",
   "id": "73e3e9d8",
   "metadata": {},
   "source": [
    "### Estimating the model weights"
   ]
  },
  {
   "cell_type": "code",
   "execution_count": 34,
   "id": "bc3231e3",
   "metadata": {},
   "outputs": [
    {
     "name": "stdout",
     "output_type": "stream",
     "text": [
      "Epoch 1/300\n",
      "--------------------------------------------------\n"
     ]
    },
    {
     "name": "stderr",
     "output_type": "stream",
     "text": [
      "Train Loss: 1.6358: 100%|██████████| 35/35 [00:08<00:00,  4.16it/s]\n",
      "Val Loss: 1.6674: 100%|██████████| 8/8 [00:00<00:00,  8.85it/s]\n"
     ]
    },
    {
     "name": "stdout",
     "output_type": "stream",
     "text": [
      "Training Loss: 1.6994, IoU: 0.0815\n",
      "Validation Loss: 1.6294, IoU: 0.0170\n",
      "Validation loss improved from inf to 1.6294\n",
      "\n",
      "Epoch 2/300\n",
      "--------------------------------------------------\n"
     ]
    },
    {
     "name": "stderr",
     "output_type": "stream",
     "text": [
      "Train Loss: 1.5743: 100%|██████████| 35/35 [00:08<00:00,  4.12it/s]\n",
      "Val Loss: 1.6001: 100%|██████████| 8/8 [00:00<00:00,  8.50it/s]"
     ]
    },
    {
     "name": "stdout",
     "output_type": "stream",
     "text": [
      "Training Loss: 1.6074, IoU: 0.0384\n",
      "Validation Loss: 1.6034, IoU: 0.0758\n",
      "Validation loss improved from 1.6294 to 1.6034\n",
      "\n",
      "Epoch 3/300\n",
      "--------------------------------------------------\n"
     ]
    },
    {
     "name": "stderr",
     "output_type": "stream",
     "text": [
      "\n",
      "Train Loss: 1.5431: 100%|██████████| 35/35 [00:08<00:00,  4.10it/s]\n",
      "Val Loss: 1.5838: 100%|██████████| 8/8 [00:00<00:00,  8.84it/s]\n"
     ]
    },
    {
     "name": "stdout",
     "output_type": "stream",
     "text": [
      "Training Loss: 1.5961, IoU: 0.0671\n",
      "Validation Loss: 1.5836, IoU: 0.0762\n",
      "Validation loss improved from 1.6034 to 1.5836\n",
      "\n",
      "Epoch 4/300\n",
      "--------------------------------------------------\n"
     ]
    },
    {
     "name": "stderr",
     "output_type": "stream",
     "text": [
      "Train Loss: 1.5538: 100%|██████████| 35/35 [00:08<00:00,  4.08it/s]\n",
      "Val Loss: 1.5430: 100%|██████████| 8/8 [00:00<00:00,  8.68it/s]"
     ]
    },
    {
     "name": "stdout",
     "output_type": "stream",
     "text": [
      "Training Loss: 1.5908, IoU: 0.0846\n",
      "Validation Loss: 1.5704, IoU: 0.0536\n",
      "Validation loss improved from 1.5836 to 1.5704\n",
      "\n",
      "Epoch 5/300\n",
      "--------------------------------------------------\n"
     ]
    },
    {
     "name": "stderr",
     "output_type": "stream",
     "text": [
      "\n",
      "Train Loss: 1.5954: 100%|██████████| 35/35 [00:08<00:00,  4.07it/s]\n",
      "Val Loss: 1.5287: 100%|██████████| 8/8 [00:00<00:00,  8.61it/s]"
     ]
    },
    {
     "name": "stdout",
     "output_type": "stream",
     "text": [
      "Training Loss: 1.5822, IoU: 0.0447\n",
      "Validation Loss: 1.5673, IoU: 0.0573\n",
      "Validation loss improved from 1.5704 to 1.5673\n",
      "\n",
      "Epoch 6/300\n",
      "--------------------------------------------------\n"
     ]
    },
    {
     "name": "stderr",
     "output_type": "stream",
     "text": [
      "\n",
      "Train Loss: 1.5887: 100%|██████████| 35/35 [00:08<00:00,  4.07it/s]\n",
      "Val Loss: 1.4137: 100%|██████████| 8/8 [00:00<00:00,  8.76it/s]"
     ]
    },
    {
     "name": "stdout",
     "output_type": "stream",
     "text": [
      "Training Loss: 1.5747, IoU: 0.0550\n",
      "Validation Loss: 1.5398, IoU: 0.0565\n",
      "Validation loss improved from 1.5673 to 1.5398\n",
      "\n",
      "Epoch 7/300\n",
      "--------------------------------------------------\n"
     ]
    },
    {
     "name": "stderr",
     "output_type": "stream",
     "text": [
      "\n",
      "Train Loss: 1.5385: 100%|██████████| 35/35 [00:08<00:00,  4.09it/s]\n",
      "Val Loss: 1.5434: 100%|██████████| 8/8 [00:00<00:00,  8.44it/s]"
     ]
    },
    {
     "name": "stdout",
     "output_type": "stream",
     "text": [
      "Training Loss: 1.5713, IoU: 0.0577\n",
      "Validation Loss: 1.5741, IoU: 0.0558\n",
      "No improvement in validation loss for 1 epochs\n",
      "\n",
      "Epoch 8/300\n",
      "--------------------------------------------------\n"
     ]
    },
    {
     "name": "stderr",
     "output_type": "stream",
     "text": [
      "\n",
      "Train Loss: 1.5693: 100%|██████████| 35/35 [00:08<00:00,  4.09it/s]\n",
      "Val Loss: 2.1717: 100%|██████████| 8/8 [00:00<00:00,  8.71it/s]"
     ]
    },
    {
     "name": "stdout",
     "output_type": "stream",
     "text": [
      "Training Loss: 1.5736, IoU: 0.0504\n",
      "Validation Loss: 1.7712, IoU: 0.0468\n",
      "No improvement in validation loss for 2 epochs\n",
      "\n",
      "Epoch 9/300\n",
      "--------------------------------------------------\n"
     ]
    },
    {
     "name": "stderr",
     "output_type": "stream",
     "text": [
      "\n",
      "Train Loss: 1.3959: 100%|██████████| 35/35 [00:08<00:00,  4.08it/s]\n",
      "Val Loss: 1.4571: 100%|██████████| 8/8 [00:00<00:00,  8.77it/s]"
     ]
    },
    {
     "name": "stdout",
     "output_type": "stream",
     "text": [
      "Training Loss: 1.5678, IoU: 0.0675\n",
      "Validation Loss: 1.5608, IoU: 0.0466\n",
      "No improvement in validation loss for 3 epochs\n",
      "\n",
      "Epoch 10/300\n",
      "--------------------------------------------------\n"
     ]
    },
    {
     "name": "stderr",
     "output_type": "stream",
     "text": [
      "\n",
      "Train Loss: 1.4993: 100%|██████████| 35/35 [00:08<00:00,  4.09it/s]\n",
      "Val Loss: 1.4437: 100%|██████████| 8/8 [00:00<00:00,  8.36it/s]"
     ]
    },
    {
     "name": "stdout",
     "output_type": "stream",
     "text": [
      "Training Loss: 1.5712, IoU: 0.0617\n",
      "Validation Loss: 1.5310, IoU: 0.0543\n",
      "Validation loss improved from 1.5398 to 1.5310\n",
      "\n",
      "Epoch 11/300\n",
      "--------------------------------------------------\n"
     ]
    },
    {
     "name": "stderr",
     "output_type": "stream",
     "text": [
      "\n",
      "Train Loss: 1.6863: 100%|██████████| 35/35 [00:08<00:00,  4.07it/s]\n",
      "Val Loss: 1.4391: 100%|██████████| 8/8 [00:00<00:00,  8.67it/s]\n"
     ]
    },
    {
     "name": "stdout",
     "output_type": "stream",
     "text": [
      "Training Loss: 1.5550, IoU: 0.0520\n",
      "Validation Loss: 1.5239, IoU: 0.0538\n",
      "Validation loss improved from 1.5310 to 1.5239\n",
      "\n",
      "Epoch 12/300\n",
      "--------------------------------------------------\n"
     ]
    },
    {
     "name": "stderr",
     "output_type": "stream",
     "text": [
      "Train Loss: 1.5368: 100%|██████████| 35/35 [00:08<00:00,  4.09it/s]\n",
      "Val Loss: 1.4318: 100%|██████████| 8/8 [00:00<00:00,  8.58it/s]"
     ]
    },
    {
     "name": "stdout",
     "output_type": "stream",
     "text": [
      "Training Loss: 1.5682, IoU: 0.0484\n",
      "Validation Loss: 1.5360, IoU: 0.0520\n",
      "No improvement in validation loss for 1 epochs\n",
      "\n",
      "Epoch 13/300\n",
      "--------------------------------------------------\n"
     ]
    },
    {
     "name": "stderr",
     "output_type": "stream",
     "text": [
      "\n",
      "Train Loss: 1.5973: 100%|██████████| 35/35 [00:08<00:00,  4.09it/s]\n",
      "Val Loss: 1.4615: 100%|██████████| 8/8 [00:00<00:00,  8.64it/s]"
     ]
    },
    {
     "name": "stdout",
     "output_type": "stream",
     "text": [
      "Training Loss: 1.5550, IoU: 0.0514\n",
      "Validation Loss: 1.5252, IoU: 0.0654\n",
      "No improvement in validation loss for 2 epochs\n",
      "\n",
      "Epoch 14/300\n",
      "--------------------------------------------------\n"
     ]
    },
    {
     "name": "stderr",
     "output_type": "stream",
     "text": [
      "\n",
      "Train Loss: 1.6380: 100%|██████████| 35/35 [00:08<00:00,  4.09it/s]\n",
      "Val Loss: 1.4353: 100%|██████████| 8/8 [00:00<00:00,  8.50it/s]"
     ]
    },
    {
     "name": "stdout",
     "output_type": "stream",
     "text": [
      "Training Loss: 1.5575, IoU: 0.0614\n",
      "Validation Loss: 1.5220, IoU: 0.0592\n",
      "Validation loss improved from 1.5239 to 1.5220\n",
      "\n",
      "Epoch 15/300\n",
      "--------------------------------------------------\n"
     ]
    },
    {
     "name": "stderr",
     "output_type": "stream",
     "text": [
      "\n",
      "Train Loss: 1.6176: 100%|██████████| 35/35 [00:08<00:00,  4.08it/s]\n",
      "Val Loss: 1.4499: 100%|██████████| 8/8 [00:00<00:00,  8.58it/s]"
     ]
    },
    {
     "name": "stdout",
     "output_type": "stream",
     "text": [
      "Training Loss: 1.5526, IoU: 0.0522\n",
      "Validation Loss: 1.5415, IoU: 0.0552\n",
      "No improvement in validation loss for 1 epochs\n",
      "\n",
      "Epoch 16/300\n",
      "--------------------------------------------------\n"
     ]
    },
    {
     "name": "stderr",
     "output_type": "stream",
     "text": [
      "\n",
      "Train Loss: 1.6491: 100%|██████████| 35/35 [00:08<00:00,  4.07it/s]\n",
      "Val Loss: 1.4692: 100%|██████████| 8/8 [00:00<00:00,  8.52it/s]"
     ]
    },
    {
     "name": "stdout",
     "output_type": "stream",
     "text": [
      "Training Loss: 1.5533, IoU: 0.0595\n",
      "Validation Loss: 1.5443, IoU: 0.0578\n",
      "No improvement in validation loss for 2 epochs\n",
      "\n",
      "Epoch 17/300\n",
      "--------------------------------------------------\n"
     ]
    },
    {
     "name": "stderr",
     "output_type": "stream",
     "text": [
      "\n",
      "Train Loss: 1.5738: 100%|██████████| 35/35 [00:08<00:00,  4.07it/s]\n",
      "Val Loss: 1.5001: 100%|██████████| 8/8 [00:00<00:00,  8.50it/s]"
     ]
    },
    {
     "name": "stdout",
     "output_type": "stream",
     "text": [
      "Training Loss: 1.5646, IoU: 0.0612\n",
      "Validation Loss: 1.5502, IoU: 0.0680\n",
      "No improvement in validation loss for 3 epochs\n",
      "\n",
      "Epoch 18/300\n",
      "--------------------------------------------------\n"
     ]
    },
    {
     "name": "stderr",
     "output_type": "stream",
     "text": [
      "\n",
      "Train Loss: 1.4943: 100%|██████████| 35/35 [00:08<00:00,  4.08it/s]\n",
      "Val Loss: 1.4277: 100%|██████████| 8/8 [00:00<00:00,  8.64it/s]\n"
     ]
    },
    {
     "name": "stdout",
     "output_type": "stream",
     "text": [
      "Training Loss: 1.5577, IoU: 0.0568\n",
      "Validation Loss: 1.5396, IoU: 0.0613\n",
      "No improvement in validation loss for 4 epochs\n",
      "\n",
      "Epoch 19/300\n",
      "--------------------------------------------------\n"
     ]
    },
    {
     "name": "stderr",
     "output_type": "stream",
     "text": [
      "Train Loss: 1.5595: 100%|██████████| 35/35 [00:08<00:00,  4.07it/s]\n",
      "Val Loss: 1.4189: 100%|██████████| 8/8 [00:00<00:00,  8.65it/s]"
     ]
    },
    {
     "name": "stdout",
     "output_type": "stream",
     "text": [
      "Training Loss: 1.5410, IoU: 0.0600\n",
      "Validation Loss: 1.5202, IoU: 0.0596\n",
      "Validation loss improved from 1.5220 to 1.5202\n",
      "\n",
      "Epoch 20/300\n",
      "--------------------------------------------------\n"
     ]
    },
    {
     "name": "stderr",
     "output_type": "stream",
     "text": [
      "\n",
      "Train Loss: 1.6000: 100%|██████████| 35/35 [00:08<00:00,  4.08it/s]\n",
      "Val Loss: 1.3820: 100%|██████████| 8/8 [00:00<00:00,  8.57it/s]"
     ]
    },
    {
     "name": "stdout",
     "output_type": "stream",
     "text": [
      "Training Loss: 1.5322, IoU: 0.0619\n",
      "Validation Loss: 1.5056, IoU: 0.0605\n",
      "Validation loss improved from 1.5202 to 1.5056\n",
      "\n",
      "Epoch 21/300\n",
      "--------------------------------------------------\n"
     ]
    },
    {
     "name": "stderr",
     "output_type": "stream",
     "text": [
      "\n",
      "Train Loss: 1.5265: 100%|██████████| 35/35 [00:08<00:00,  4.08it/s]\n",
      "Val Loss: 1.4436: 100%|██████████| 8/8 [00:00<00:00,  8.59it/s]"
     ]
    },
    {
     "name": "stdout",
     "output_type": "stream",
     "text": [
      "Training Loss: 1.5495, IoU: 0.0665\n",
      "Validation Loss: 1.5164, IoU: 0.0970\n",
      "No improvement in validation loss for 1 epochs\n",
      "\n",
      "Epoch 22/300\n",
      "--------------------------------------------------\n"
     ]
    },
    {
     "name": "stderr",
     "output_type": "stream",
     "text": [
      "\n",
      "Train Loss: 1.6235: 100%|██████████| 35/35 [00:08<00:00,  4.08it/s]\n",
      "Val Loss: 1.4208: 100%|██████████| 8/8 [00:00<00:00,  8.45it/s]"
     ]
    },
    {
     "name": "stdout",
     "output_type": "stream",
     "text": [
      "Training Loss: 1.5405, IoU: 0.0673\n",
      "Validation Loss: 1.5354, IoU: 0.0977\n",
      "No improvement in validation loss for 2 epochs\n",
      "\n",
      "Epoch 23/300\n",
      "--------------------------------------------------\n"
     ]
    },
    {
     "name": "stderr",
     "output_type": "stream",
     "text": [
      "\n",
      "Train Loss: 1.4633: 100%|██████████| 35/35 [00:08<00:00,  4.07it/s]\n",
      "Val Loss: 1.3790: 100%|██████████| 8/8 [00:00<00:00,  8.58it/s]"
     ]
    },
    {
     "name": "stdout",
     "output_type": "stream",
     "text": [
      "Training Loss: 1.5450, IoU: 0.0809\n",
      "Validation Loss: 1.5045, IoU: 0.0746\n",
      "Validation loss improved from 1.5056 to 1.5045\n",
      "\n",
      "Epoch 24/300\n",
      "--------------------------------------------------\n"
     ]
    },
    {
     "name": "stderr",
     "output_type": "stream",
     "text": [
      "\n",
      "Train Loss: 1.4607: 100%|██████████| 35/35 [00:08<00:00,  4.07it/s]\n",
      "Val Loss: 1.4510: 100%|██████████| 8/8 [00:00<00:00,  8.31it/s]"
     ]
    },
    {
     "name": "stdout",
     "output_type": "stream",
     "text": [
      "Training Loss: 1.5335, IoU: 0.0651\n",
      "Validation Loss: 1.5077, IoU: 0.0782\n",
      "No improvement in validation loss for 1 epochs\n",
      "\n",
      "Epoch 25/300\n",
      "--------------------------------------------------\n"
     ]
    },
    {
     "name": "stderr",
     "output_type": "stream",
     "text": [
      "\n",
      "Train Loss: 1.5146: 100%|██████████| 35/35 [00:08<00:00,  4.06it/s]\n",
      "Val Loss: 1.3845: 100%|██████████| 8/8 [00:00<00:00,  8.18it/s]\n"
     ]
    },
    {
     "name": "stdout",
     "output_type": "stream",
     "text": [
      "Training Loss: 1.5431, IoU: 0.0808\n",
      "Validation Loss: 1.5040, IoU: 0.0892\n",
      "Validation loss improved from 1.5045 to 1.5040\n",
      "\n",
      "Epoch 26/300\n",
      "--------------------------------------------------\n"
     ]
    },
    {
     "name": "stderr",
     "output_type": "stream",
     "text": [
      "Train Loss: 1.6434: 100%|██████████| 35/35 [00:08<00:00,  4.05it/s]\n",
      "Val Loss: 1.3861: 100%|██████████| 8/8 [00:00<00:00,  8.38it/s]"
     ]
    },
    {
     "name": "stdout",
     "output_type": "stream",
     "text": [
      "Training Loss: 1.5296, IoU: 0.0669\n",
      "Validation Loss: 1.4937, IoU: 0.0749\n",
      "Validation loss improved from 1.5040 to 1.4937\n",
      "\n",
      "Epoch 27/300\n",
      "--------------------------------------------------\n"
     ]
    },
    {
     "name": "stderr",
     "output_type": "stream",
     "text": [
      "\n",
      "Train Loss: 1.5278: 100%|██████████| 35/35 [00:08<00:00,  4.06it/s]\n",
      "Val Loss: 1.4810: 100%|██████████| 8/8 [00:00<00:00,  8.34it/s]"
     ]
    },
    {
     "name": "stdout",
     "output_type": "stream",
     "text": [
      "Training Loss: 1.5324, IoU: 0.0756\n",
      "Validation Loss: 1.5273, IoU: 0.0654\n",
      "No improvement in validation loss for 1 epochs\n",
      "\n",
      "Epoch 28/300\n",
      "--------------------------------------------------\n"
     ]
    },
    {
     "name": "stderr",
     "output_type": "stream",
     "text": [
      "\n",
      "Train Loss: 1.4483: 100%|██████████| 35/35 [00:08<00:00,  4.06it/s]\n",
      "Val Loss: 1.3564: 100%|██████████| 8/8 [00:00<00:00,  8.43it/s]"
     ]
    },
    {
     "name": "stdout",
     "output_type": "stream",
     "text": [
      "Training Loss: 1.5331, IoU: 0.0781\n",
      "Validation Loss: 1.4864, IoU: 0.0865\n",
      "Validation loss improved from 1.4937 to 1.4864\n",
      "\n",
      "Epoch 29/300\n",
      "--------------------------------------------------\n"
     ]
    },
    {
     "name": "stderr",
     "output_type": "stream",
     "text": [
      "\n",
      "Train Loss: 1.3688: 100%|██████████| 35/35 [00:08<00:00,  4.05it/s]\n",
      "Val Loss: 1.5199: 100%|██████████| 8/8 [00:00<00:00,  8.44it/s]"
     ]
    },
    {
     "name": "stdout",
     "output_type": "stream",
     "text": [
      "Training Loss: 1.5346, IoU: 0.0790\n",
      "Validation Loss: 1.5453, IoU: 0.0936\n",
      "No improvement in validation loss for 1 epochs\n",
      "\n",
      "Epoch 30/300\n",
      "--------------------------------------------------\n"
     ]
    },
    {
     "name": "stderr",
     "output_type": "stream",
     "text": [
      "\n",
      "Train Loss: 1.5628: 100%|██████████| 35/35 [00:08<00:00,  4.05it/s]\n",
      "Val Loss: 1.3332: 100%|██████████| 8/8 [00:00<00:00,  8.34it/s]"
     ]
    },
    {
     "name": "stdout",
     "output_type": "stream",
     "text": [
      "Training Loss: 1.5356, IoU: 0.0941\n",
      "Validation Loss: 1.5115, IoU: 0.1221\n",
      "No improvement in validation loss for 2 epochs\n",
      "\n",
      "Epoch 31/300\n",
      "--------------------------------------------------\n"
     ]
    },
    {
     "name": "stderr",
     "output_type": "stream",
     "text": [
      "\n",
      "Train Loss: 1.5258: 100%|██████████| 35/35 [00:08<00:00,  4.06it/s]\n",
      "Val Loss: 1.5971: 100%|██████████| 8/8 [00:00<00:00,  8.34it/s]"
     ]
    },
    {
     "name": "stdout",
     "output_type": "stream",
     "text": [
      "Training Loss: 1.5227, IoU: 0.0913\n",
      "Validation Loss: 1.5378, IoU: 0.0747\n",
      "No improvement in validation loss for 3 epochs\n",
      "\n",
      "Epoch 32/300\n",
      "--------------------------------------------------\n"
     ]
    },
    {
     "name": "stderr",
     "output_type": "stream",
     "text": [
      "\n",
      "Train Loss: 1.4735: 100%|██████████| 35/35 [00:08<00:00,  4.06it/s]\n",
      "Val Loss: 1.4316: 100%|██████████| 8/8 [00:00<00:00,  8.45it/s]"
     ]
    },
    {
     "name": "stdout",
     "output_type": "stream",
     "text": [
      "Training Loss: 1.5247, IoU: 0.0776\n",
      "Validation Loss: 1.5158, IoU: 0.0849\n",
      "No improvement in validation loss for 4 epochs\n",
      "\n",
      "Epoch 33/300\n",
      "--------------------------------------------------\n"
     ]
    },
    {
     "name": "stderr",
     "output_type": "stream",
     "text": [
      "\n",
      "Train Loss: 1.4987: 100%|██████████| 35/35 [00:08<00:00,  4.07it/s]\n",
      "Val Loss: 1.3767: 100%|██████████| 8/8 [00:00<00:00,  8.43it/s]"
     ]
    },
    {
     "name": "stdout",
     "output_type": "stream",
     "text": [
      "Training Loss: 1.5279, IoU: 0.0852\n",
      "Validation Loss: 1.5065, IoU: 0.0971\n",
      "No improvement in validation loss for 5 epochs\n",
      "\n",
      "Epoch 34/300\n",
      "--------------------------------------------------\n"
     ]
    },
    {
     "name": "stderr",
     "output_type": "stream",
     "text": [
      "\n",
      "Train Loss: 1.4820: 100%|██████████| 35/35 [00:08<00:00,  4.06it/s]\n",
      "Val Loss: 1.2313: 100%|██████████| 8/8 [00:00<00:00,  8.59it/s]"
     ]
    },
    {
     "name": "stdout",
     "output_type": "stream",
     "text": [
      "Training Loss: 1.5184, IoU: 0.0848\n",
      "Validation Loss: 1.4901, IoU: 0.0757\n",
      "No improvement in validation loss for 6 epochs\n",
      "\n",
      "Epoch 35/300\n",
      "--------------------------------------------------\n"
     ]
    },
    {
     "name": "stderr",
     "output_type": "stream",
     "text": [
      "\n",
      "Train Loss: 1.5170: 100%|██████████| 35/35 [00:08<00:00,  4.05it/s]\n",
      "Val Loss: 1.4214: 100%|██████████| 8/8 [00:00<00:00,  8.45it/s]"
     ]
    },
    {
     "name": "stdout",
     "output_type": "stream",
     "text": [
      "Training Loss: 1.5216, IoU: 0.0726\n",
      "Validation Loss: 1.4890, IoU: 0.1056\n",
      "No improvement in validation loss for 7 epochs\n",
      "\n",
      "Epoch 36/300\n",
      "--------------------------------------------------\n"
     ]
    },
    {
     "name": "stderr",
     "output_type": "stream",
     "text": [
      "\n",
      "Train Loss: 1.5031: 100%|██████████| 35/35 [00:08<00:00,  4.06it/s]\n",
      "Val Loss: 1.4472: 100%|██████████| 8/8 [00:00<00:00,  8.37it/s]"
     ]
    },
    {
     "name": "stdout",
     "output_type": "stream",
     "text": [
      "Training Loss: 1.5245, IoU: 0.0816\n",
      "Validation Loss: 1.5197, IoU: 0.0868\n",
      "No improvement in validation loss for 8 epochs\n",
      "\n",
      "Epoch 37/300\n",
      "--------------------------------------------------\n"
     ]
    },
    {
     "name": "stderr",
     "output_type": "stream",
     "text": [
      "\n",
      "Train Loss: 1.6569: 100%|██████████| 35/35 [00:08<00:00,  4.06it/s]\n",
      "Val Loss: 1.3918: 100%|██████████| 8/8 [00:00<00:00,  8.41it/s]"
     ]
    },
    {
     "name": "stdout",
     "output_type": "stream",
     "text": [
      "Training Loss: 1.5181, IoU: 0.0982\n",
      "Validation Loss: 1.4837, IoU: 0.1097\n",
      "Validation loss improved from 1.4864 to 1.4837\n",
      "\n",
      "Epoch 38/300\n",
      "--------------------------------------------------\n"
     ]
    },
    {
     "name": "stderr",
     "output_type": "stream",
     "text": [
      "\n",
      "Train Loss: 1.5070: 100%|██████████| 35/35 [00:08<00:00,  4.10it/s]\n",
      "Val Loss: 1.3117: 100%|██████████| 8/8 [00:00<00:00,  8.31it/s]"
     ]
    },
    {
     "name": "stdout",
     "output_type": "stream",
     "text": [
      "Training Loss: 1.5204, IoU: 0.0804\n",
      "Validation Loss: 1.4984, IoU: 0.0764\n",
      "No improvement in validation loss for 1 epochs\n",
      "\n",
      "Epoch 39/300\n",
      "--------------------------------------------------\n"
     ]
    },
    {
     "name": "stderr",
     "output_type": "stream",
     "text": [
      "\n",
      "Train Loss: 1.5051: 100%|██████████| 35/35 [00:08<00:00,  4.06it/s]\n",
      "Val Loss: 1.4805: 100%|██████████| 8/8 [00:00<00:00,  8.57it/s]\n"
     ]
    },
    {
     "name": "stdout",
     "output_type": "stream",
     "text": [
      "Training Loss: 1.5210, IoU: 0.0929\n",
      "Validation Loss: 1.5316, IoU: 0.0894\n",
      "No improvement in validation loss for 2 epochs\n",
      "\n",
      "Epoch 40/300\n",
      "--------------------------------------------------\n"
     ]
    },
    {
     "name": "stderr",
     "output_type": "stream",
     "text": [
      "Train Loss: 1.4817: 100%|██████████| 35/35 [00:08<00:00,  4.05it/s]\n",
      "Val Loss: 1.4684: 100%|██████████| 8/8 [00:00<00:00,  8.47it/s]"
     ]
    },
    {
     "name": "stdout",
     "output_type": "stream",
     "text": [
      "Training Loss: 1.5233, IoU: 0.0906\n",
      "Validation Loss: 1.5371, IoU: 0.0889\n",
      "No improvement in validation loss for 3 epochs\n",
      "\n",
      "Epoch 41/300\n",
      "--------------------------------------------------\n"
     ]
    },
    {
     "name": "stderr",
     "output_type": "stream",
     "text": [
      "\n",
      "Train Loss: 1.4532: 100%|██████████| 35/35 [00:08<00:00,  4.04it/s]\n",
      "Val Loss: 1.4617: 100%|██████████| 8/8 [00:00<00:00,  8.65it/s]"
     ]
    },
    {
     "name": "stdout",
     "output_type": "stream",
     "text": [
      "Training Loss: 1.5147, IoU: 0.0974\n",
      "Validation Loss: 1.5040, IoU: 0.0888\n",
      "No improvement in validation loss for 4 epochs\n",
      "\n",
      "Epoch 42/300\n",
      "--------------------------------------------------\n"
     ]
    },
    {
     "name": "stderr",
     "output_type": "stream",
     "text": [
      "\n",
      "Train Loss: 1.4669: 100%|██████████| 35/35 [00:08<00:00,  4.06it/s]\n",
      "Val Loss: 1.4631: 100%|██████████| 8/8 [00:00<00:00,  8.50it/s]\n"
     ]
    },
    {
     "name": "stdout",
     "output_type": "stream",
     "text": [
      "Training Loss: 1.5190, IoU: 0.0824\n",
      "Validation Loss: 1.4944, IoU: 0.1270\n",
      "No improvement in validation loss for 5 epochs\n",
      "\n",
      "Epoch 43/300\n",
      "--------------------------------------------------\n"
     ]
    },
    {
     "name": "stderr",
     "output_type": "stream",
     "text": [
      "Train Loss: 1.6450: 100%|██████████| 35/35 [00:08<00:00,  4.05it/s]\n",
      "Val Loss: 1.3230: 100%|██████████| 8/8 [00:00<00:00,  8.57it/s]"
     ]
    },
    {
     "name": "stdout",
     "output_type": "stream",
     "text": [
      "Training Loss: 1.5106, IoU: 0.0989\n",
      "Validation Loss: 1.4950, IoU: 0.1029\n",
      "No improvement in validation loss for 6 epochs\n",
      "\n",
      "Epoch 44/300\n",
      "--------------------------------------------------\n"
     ]
    },
    {
     "name": "stderr",
     "output_type": "stream",
     "text": [
      "\n",
      "Train Loss: 1.3363: 100%|██████████| 35/35 [00:08<00:00,  4.06it/s]\n",
      "Val Loss: 1.2352: 100%|██████████| 8/8 [00:00<00:00,  8.31it/s]"
     ]
    },
    {
     "name": "stdout",
     "output_type": "stream",
     "text": [
      "Training Loss: 1.5060, IoU: 0.0765\n",
      "Validation Loss: 1.4784, IoU: 0.0659\n",
      "Validation loss improved from 1.4837 to 1.4784\n",
      "\n",
      "Epoch 45/300\n",
      "--------------------------------------------------\n"
     ]
    },
    {
     "name": "stderr",
     "output_type": "stream",
     "text": [
      "\n",
      "Train Loss: 1.5411: 100%|██████████| 35/35 [00:08<00:00,  4.05it/s]\n",
      "Val Loss: 1.5341: 100%|██████████| 8/8 [00:00<00:00,  8.19it/s]"
     ]
    },
    {
     "name": "stdout",
     "output_type": "stream",
     "text": [
      "Training Loss: 1.4932, IoU: 0.0855\n",
      "Validation Loss: 1.5156, IoU: 0.0703\n",
      "No improvement in validation loss for 1 epochs\n",
      "\n",
      "Epoch 46/300\n",
      "--------------------------------------------------\n"
     ]
    },
    {
     "name": "stderr",
     "output_type": "stream",
     "text": [
      "\n",
      "Train Loss: 1.4659: 100%|██████████| 35/35 [00:08<00:00,  4.05it/s]\n",
      "Val Loss: 1.4895: 100%|██████████| 8/8 [00:00<00:00,  8.52it/s]"
     ]
    },
    {
     "name": "stdout",
     "output_type": "stream",
     "text": [
      "Training Loss: 1.4952, IoU: 0.0855\n",
      "Validation Loss: 1.5331, IoU: 0.0759\n",
      "No improvement in validation loss for 2 epochs\n",
      "\n",
      "Epoch 47/300\n",
      "--------------------------------------------------\n"
     ]
    },
    {
     "name": "stderr",
     "output_type": "stream",
     "text": [
      "\n",
      "Train Loss: 1.5459: 100%|██████████| 35/35 [00:08<00:00,  4.06it/s]\n",
      "Val Loss: 1.4164: 100%|██████████| 8/8 [00:00<00:00,  8.23it/s]"
     ]
    },
    {
     "name": "stdout",
     "output_type": "stream",
     "text": [
      "Training Loss: 1.5152, IoU: 0.0813\n",
      "Validation Loss: 1.4867, IoU: 0.0896\n",
      "No improvement in validation loss for 3 epochs\n",
      "\n",
      "Epoch 48/300\n",
      "--------------------------------------------------\n"
     ]
    },
    {
     "name": "stderr",
     "output_type": "stream",
     "text": [
      "\n",
      "Train Loss: 1.4291: 100%|██████████| 35/35 [00:08<00:00,  4.07it/s]\n",
      "Val Loss: 1.3589: 100%|██████████| 8/8 [00:00<00:00,  8.59it/s]\n"
     ]
    },
    {
     "name": "stdout",
     "output_type": "stream",
     "text": [
      "Training Loss: 1.4995, IoU: 0.0937\n",
      "Validation Loss: 1.4918, IoU: 0.0882\n",
      "No improvement in validation loss for 4 epochs\n",
      "\n",
      "Epoch 49/300\n",
      "--------------------------------------------------\n"
     ]
    },
    {
     "name": "stderr",
     "output_type": "stream",
     "text": [
      "Train Loss: 1.6337: 100%|██████████| 35/35 [00:08<00:00,  4.07it/s]\n",
      "Val Loss: 1.5842: 100%|██████████| 8/8 [00:00<00:00,  8.23it/s]\n"
     ]
    },
    {
     "name": "stdout",
     "output_type": "stream",
     "text": [
      "Training Loss: 1.5117, IoU: 0.0896\n",
      "Validation Loss: 1.5900, IoU: 0.0713\n",
      "No improvement in validation loss for 5 epochs\n",
      "\n",
      "Epoch 50/300\n",
      "--------------------------------------------------\n"
     ]
    },
    {
     "name": "stderr",
     "output_type": "stream",
     "text": [
      "Train Loss: 1.3757: 100%|██████████| 35/35 [00:08<00:00,  4.08it/s]\n",
      "Val Loss: 1.4600: 100%|██████████| 8/8 [00:00<00:00,  8.40it/s]"
     ]
    },
    {
     "name": "stdout",
     "output_type": "stream",
     "text": [
      "Training Loss: 1.4991, IoU: 0.0830\n",
      "Validation Loss: 1.5055, IoU: 0.1315\n",
      "No improvement in validation loss for 6 epochs\n",
      "\n",
      "Epoch 51/300\n",
      "--------------------------------------------------\n"
     ]
    },
    {
     "name": "stderr",
     "output_type": "stream",
     "text": [
      "\n",
      "Train Loss: 1.6413: 100%|██████████| 35/35 [00:08<00:00,  4.08it/s]\n",
      "Val Loss: 1.2379: 100%|██████████| 8/8 [00:00<00:00,  8.30it/s]\n"
     ]
    },
    {
     "name": "stdout",
     "output_type": "stream",
     "text": [
      "Training Loss: 1.4964, IoU: 0.0946\n",
      "Validation Loss: 1.4708, IoU: 0.0994\n",
      "Validation loss improved from 1.4784 to 1.4708\n",
      "\n",
      "Epoch 52/300\n",
      "--------------------------------------------------\n"
     ]
    },
    {
     "name": "stderr",
     "output_type": "stream",
     "text": [
      "Train Loss: 1.5630: 100%|██████████| 35/35 [00:08<00:00,  4.07it/s]\n",
      "Val Loss: 1.3861: 100%|██████████| 8/8 [00:00<00:00,  8.42it/s]"
     ]
    },
    {
     "name": "stdout",
     "output_type": "stream",
     "text": [
      "Training Loss: 1.4965, IoU: 0.0907\n",
      "Validation Loss: 1.4848, IoU: 0.1081\n",
      "No improvement in validation loss for 1 epochs\n",
      "\n",
      "Epoch 53/300\n",
      "--------------------------------------------------\n"
     ]
    },
    {
     "name": "stderr",
     "output_type": "stream",
     "text": [
      "\n",
      "Train Loss: 1.5402: 100%|██████████| 35/35 [00:08<00:00,  4.07it/s]\n",
      "Val Loss: 1.2971: 100%|██████████| 8/8 [00:00<00:00,  8.39it/s]"
     ]
    },
    {
     "name": "stdout",
     "output_type": "stream",
     "text": [
      "Training Loss: 1.4908, IoU: 0.0920\n",
      "Validation Loss: 1.4763, IoU: 0.0925\n",
      "No improvement in validation loss for 2 epochs\n",
      "\n",
      "Epoch 54/300\n",
      "--------------------------------------------------\n"
     ]
    },
    {
     "name": "stderr",
     "output_type": "stream",
     "text": [
      "\n",
      "Train Loss: 1.4502: 100%|██████████| 35/35 [00:08<00:00,  4.07it/s]\n",
      "Val Loss: 1.3258: 100%|██████████| 8/8 [00:00<00:00,  8.16it/s]\n"
     ]
    },
    {
     "name": "stdout",
     "output_type": "stream",
     "text": [
      "Training Loss: 1.5004, IoU: 0.0942\n",
      "Validation Loss: 1.4713, IoU: 0.1135\n",
      "No improvement in validation loss for 3 epochs\n",
      "\n",
      "Epoch 55/300\n",
      "--------------------------------------------------\n"
     ]
    },
    {
     "name": "stderr",
     "output_type": "stream",
     "text": [
      "Train Loss: 1.4116: 100%|██████████| 35/35 [00:08<00:00,  4.07it/s]\n",
      "Val Loss: 1.3201: 100%|██████████| 8/8 [00:00<00:00,  8.46it/s]"
     ]
    },
    {
     "name": "stdout",
     "output_type": "stream",
     "text": [
      "Training Loss: 1.4789, IoU: 0.0994\n",
      "Validation Loss: 1.4776, IoU: 0.1159\n",
      "No improvement in validation loss for 4 epochs\n",
      "\n",
      "Epoch 56/300\n",
      "--------------------------------------------------\n"
     ]
    },
    {
     "name": "stderr",
     "output_type": "stream",
     "text": [
      "\n",
      "Train Loss: 1.4677: 100%|██████████| 35/35 [00:08<00:00,  4.04it/s]\n",
      "Val Loss: 1.4449: 100%|██████████| 8/8 [00:00<00:00,  8.28it/s]"
     ]
    },
    {
     "name": "stdout",
     "output_type": "stream",
     "text": [
      "Training Loss: 1.4810, IoU: 0.1056\n",
      "Validation Loss: 1.5776, IoU: 0.0606\n",
      "No improvement in validation loss for 5 epochs\n",
      "\n",
      "Epoch 57/300\n",
      "--------------------------------------------------\n"
     ]
    },
    {
     "name": "stderr",
     "output_type": "stream",
     "text": [
      "\n",
      "Train Loss: 1.5695: 100%|██████████| 35/35 [00:08<00:00,  4.07it/s]\n",
      "Val Loss: 1.4102: 100%|██████████| 8/8 [00:00<00:00,  8.30it/s]\n"
     ]
    },
    {
     "name": "stdout",
     "output_type": "stream",
     "text": [
      "Training Loss: 1.4840, IoU: 0.0989\n",
      "Validation Loss: 1.5077, IoU: 0.0969\n",
      "No improvement in validation loss for 6 epochs\n",
      "\n",
      "Epoch 58/300\n",
      "--------------------------------------------------\n"
     ]
    },
    {
     "name": "stderr",
     "output_type": "stream",
     "text": [
      "Train Loss: 1.4329: 100%|██████████| 35/35 [00:08<00:00,  4.07it/s]\n",
      "Val Loss: 1.1869: 100%|██████████| 8/8 [00:00<00:00,  8.47it/s]"
     ]
    },
    {
     "name": "stdout",
     "output_type": "stream",
     "text": [
      "Training Loss: 1.4829, IoU: 0.0942\n",
      "Validation Loss: 1.4881, IoU: 0.1126\n",
      "No improvement in validation loss for 7 epochs\n",
      "\n",
      "Epoch 59/300\n",
      "--------------------------------------------------\n"
     ]
    },
    {
     "name": "stderr",
     "output_type": "stream",
     "text": [
      "\n",
      "Train Loss: 1.4730: 100%|██████████| 35/35 [00:08<00:00,  4.06it/s]\n",
      "Val Loss: 1.3133: 100%|██████████| 8/8 [00:00<00:00,  8.36it/s]"
     ]
    },
    {
     "name": "stdout",
     "output_type": "stream",
     "text": [
      "Training Loss: 1.4857, IoU: 0.0913\n",
      "Validation Loss: 1.4741, IoU: 0.1250\n",
      "No improvement in validation loss for 8 epochs\n",
      "\n",
      "Epoch 60/300\n",
      "--------------------------------------------------\n"
     ]
    },
    {
     "name": "stderr",
     "output_type": "stream",
     "text": [
      "\n",
      "Train Loss: 1.3566: 100%|██████████| 35/35 [00:08<00:00,  4.05it/s]\n",
      "Val Loss: 1.2282: 100%|██████████| 8/8 [00:00<00:00,  8.44it/s]"
     ]
    },
    {
     "name": "stdout",
     "output_type": "stream",
     "text": [
      "Training Loss: 1.4691, IoU: 0.0952\n",
      "Validation Loss: 1.4683, IoU: 0.1079\n",
      "Validation loss improved from 1.4708 to 1.4683\n",
      "\n",
      "Epoch 61/300\n",
      "--------------------------------------------------\n"
     ]
    },
    {
     "name": "stderr",
     "output_type": "stream",
     "text": [
      "\n",
      "Train Loss: 1.5719: 100%|██████████| 35/35 [00:08<00:00,  4.04it/s]\n",
      "Val Loss: 1.2291: 100%|██████████| 8/8 [00:00<00:00,  8.34it/s]"
     ]
    },
    {
     "name": "stdout",
     "output_type": "stream",
     "text": [
      "Training Loss: 1.4870, IoU: 0.0973\n",
      "Validation Loss: 1.4742, IoU: 0.1017\n",
      "No improvement in validation loss for 1 epochs\n",
      "\n",
      "Epoch 62/300\n",
      "--------------------------------------------------\n"
     ]
    },
    {
     "name": "stderr",
     "output_type": "stream",
     "text": [
      "\n",
      "Train Loss: 1.5280: 100%|██████████| 35/35 [00:08<00:00,  4.04it/s]\n",
      "Val Loss: 1.2841: 100%|██████████| 8/8 [00:00<00:00,  8.26it/s]"
     ]
    },
    {
     "name": "stdout",
     "output_type": "stream",
     "text": [
      "Training Loss: 1.4778, IoU: 0.1012\n",
      "Validation Loss: 1.4698, IoU: 0.1133\n",
      "No improvement in validation loss for 2 epochs\n",
      "\n",
      "Epoch 63/300\n",
      "--------------------------------------------------\n"
     ]
    },
    {
     "name": "stderr",
     "output_type": "stream",
     "text": [
      "\n",
      "Train Loss: 1.3969: 100%|██████████| 35/35 [00:08<00:00,  4.02it/s]\n",
      "Val Loss: 1.3152: 100%|██████████| 8/8 [00:00<00:00,  8.28it/s]"
     ]
    },
    {
     "name": "stdout",
     "output_type": "stream",
     "text": [
      "Training Loss: 1.4809, IoU: 0.0966\n",
      "Validation Loss: 1.4643, IoU: 0.1110\n",
      "Validation loss improved from 1.4683 to 1.4643\n",
      "\n",
      "Epoch 64/300\n",
      "--------------------------------------------------\n"
     ]
    },
    {
     "name": "stderr",
     "output_type": "stream",
     "text": [
      "\n",
      "Train Loss: 1.6897: 100%|██████████| 35/35 [00:08<00:00,  4.05it/s]\n",
      "Val Loss: 1.5335: 100%|██████████| 8/8 [00:00<00:00,  8.22it/s]"
     ]
    },
    {
     "name": "stdout",
     "output_type": "stream",
     "text": [
      "Training Loss: 1.4786, IoU: 0.0982\n",
      "Validation Loss: 1.5243, IoU: 0.0782\n",
      "No improvement in validation loss for 1 epochs\n",
      "\n",
      "Epoch 65/300\n",
      "--------------------------------------------------\n"
     ]
    },
    {
     "name": "stderr",
     "output_type": "stream",
     "text": [
      "\n",
      "Train Loss: 1.4575: 100%|██████████| 35/35 [00:08<00:00,  4.05it/s]\n",
      "Val Loss: 1.2226: 100%|██████████| 8/8 [00:00<00:00,  8.48it/s]"
     ]
    },
    {
     "name": "stdout",
     "output_type": "stream",
     "text": [
      "Training Loss: 1.4691, IoU: 0.0927\n",
      "Validation Loss: 1.4590, IoU: 0.1306\n",
      "Validation loss improved from 1.4643 to 1.4590\n",
      "\n",
      "Epoch 66/300\n",
      "--------------------------------------------------\n"
     ]
    },
    {
     "name": "stderr",
     "output_type": "stream",
     "text": [
      "\n",
      "Train Loss: 1.4558: 100%|██████████| 35/35 [00:08<00:00,  4.05it/s]\n",
      "Val Loss: 1.1948: 100%|██████████| 8/8 [00:00<00:00,  8.34it/s]"
     ]
    },
    {
     "name": "stdout",
     "output_type": "stream",
     "text": [
      "Training Loss: 1.4686, IoU: 0.0947\n",
      "Validation Loss: 1.4467, IoU: 0.1244\n",
      "Validation loss improved from 1.4590 to 1.4467\n",
      "\n",
      "Epoch 67/300\n",
      "--------------------------------------------------\n"
     ]
    },
    {
     "name": "stderr",
     "output_type": "stream",
     "text": [
      "\n",
      "Train Loss: 1.4786: 100%|██████████| 35/35 [00:08<00:00,  4.05it/s]\n",
      "Val Loss: 1.2361: 100%|██████████| 8/8 [00:00<00:00,  8.29it/s]"
     ]
    },
    {
     "name": "stdout",
     "output_type": "stream",
     "text": [
      "Training Loss: 1.4562, IoU: 0.1027\n",
      "Validation Loss: 1.4502, IoU: 0.1361\n",
      "No improvement in validation loss for 1 epochs\n",
      "\n",
      "Epoch 68/300\n",
      "--------------------------------------------------\n"
     ]
    },
    {
     "name": "stderr",
     "output_type": "stream",
     "text": [
      "\n",
      "Train Loss: 1.4768: 100%|██████████| 35/35 [00:08<00:00,  4.05it/s]\n",
      "Val Loss: 1.3635: 100%|██████████| 8/8 [00:00<00:00,  8.53it/s]"
     ]
    },
    {
     "name": "stdout",
     "output_type": "stream",
     "text": [
      "Training Loss: 1.4675, IoU: 0.0972\n",
      "Validation Loss: 1.4994, IoU: 0.0937\n",
      "No improvement in validation loss for 2 epochs\n",
      "\n",
      "Epoch 69/300\n",
      "--------------------------------------------------\n"
     ]
    },
    {
     "name": "stderr",
     "output_type": "stream",
     "text": [
      "\n",
      "Train Loss: 1.4397: 100%|██████████| 35/35 [00:08<00:00,  4.04it/s]\n",
      "Val Loss: 1.2048: 100%|██████████| 8/8 [00:00<00:00,  8.45it/s]"
     ]
    },
    {
     "name": "stdout",
     "output_type": "stream",
     "text": [
      "Training Loss: 1.4755, IoU: 0.0939\n",
      "Validation Loss: 1.4367, IoU: 0.0971\n",
      "Validation loss improved from 1.4467 to 1.4367\n",
      "\n",
      "Epoch 70/300\n",
      "--------------------------------------------------\n"
     ]
    },
    {
     "name": "stderr",
     "output_type": "stream",
     "text": [
      "\n",
      "Train Loss: 1.5009: 100%|██████████| 35/35 [00:08<00:00,  4.06it/s]\n",
      "Val Loss: 1.1776: 100%|██████████| 8/8 [00:00<00:00,  8.48it/s]"
     ]
    },
    {
     "name": "stdout",
     "output_type": "stream",
     "text": [
      "Training Loss: 1.4559, IoU: 0.0993\n",
      "Validation Loss: 1.4615, IoU: 0.1041\n",
      "No improvement in validation loss for 1 epochs\n",
      "\n",
      "Epoch 71/300\n",
      "--------------------------------------------------\n"
     ]
    },
    {
     "name": "stderr",
     "output_type": "stream",
     "text": [
      "\n",
      "Train Loss: 1.3998: 100%|██████████| 35/35 [00:08<00:00,  4.06it/s]\n",
      "Val Loss: 1.4483: 100%|██████████| 8/8 [00:00<00:00,  8.41it/s]"
     ]
    },
    {
     "name": "stdout",
     "output_type": "stream",
     "text": [
      "Training Loss: 1.4544, IoU: 0.0952\n",
      "Validation Loss: 1.4749, IoU: 0.1158\n",
      "No improvement in validation loss for 2 epochs\n",
      "\n",
      "Epoch 72/300\n",
      "--------------------------------------------------\n"
     ]
    },
    {
     "name": "stderr",
     "output_type": "stream",
     "text": [
      "\n",
      "Train Loss: 1.5234: 100%|██████████| 35/35 [00:08<00:00,  4.06it/s]\n",
      "Val Loss: 1.1766: 100%|██████████| 8/8 [00:00<00:00,  8.38it/s]"
     ]
    },
    {
     "name": "stdout",
     "output_type": "stream",
     "text": [
      "Training Loss: 1.4447, IoU: 0.1010\n",
      "Validation Loss: 1.4451, IoU: 0.0880\n",
      "No improvement in validation loss for 3 epochs\n",
      "\n",
      "Epoch 73/300\n",
      "--------------------------------------------------\n"
     ]
    },
    {
     "name": "stderr",
     "output_type": "stream",
     "text": [
      "\n",
      "Train Loss: 1.4787: 100%|██████████| 35/35 [00:08<00:00,  4.07it/s]\n",
      "Val Loss: 1.3633: 100%|██████████| 8/8 [00:00<00:00,  8.47it/s]"
     ]
    },
    {
     "name": "stdout",
     "output_type": "stream",
     "text": [
      "Training Loss: 1.4741, IoU: 0.0917\n",
      "Validation Loss: 1.4578, IoU: 0.1086\n",
      "No improvement in validation loss for 4 epochs\n",
      "\n",
      "Epoch 74/300\n",
      "--------------------------------------------------\n"
     ]
    },
    {
     "name": "stderr",
     "output_type": "stream",
     "text": [
      "\n",
      "Train Loss: 1.3548: 100%|██████████| 35/35 [00:08<00:00,  4.05it/s]\n",
      "Val Loss: 1.2670: 100%|██████████| 8/8 [00:00<00:00,  8.43it/s]"
     ]
    },
    {
     "name": "stdout",
     "output_type": "stream",
     "text": [
      "Training Loss: 1.4546, IoU: 0.0993\n",
      "Validation Loss: 1.4583, IoU: 0.1093\n",
      "No improvement in validation loss for 5 epochs\n",
      "\n",
      "Epoch 75/300\n",
      "--------------------------------------------------\n"
     ]
    },
    {
     "name": "stderr",
     "output_type": "stream",
     "text": [
      "\n",
      "Train Loss: 1.4707: 100%|██████████| 35/35 [00:08<00:00,  4.07it/s]\n",
      "Val Loss: 1.2042: 100%|██████████| 8/8 [00:00<00:00,  8.22it/s]"
     ]
    },
    {
     "name": "stdout",
     "output_type": "stream",
     "text": [
      "Training Loss: 1.4506, IoU: 0.1013\n",
      "Validation Loss: 1.4594, IoU: 0.1088\n",
      "No improvement in validation loss for 6 epochs\n",
      "\n",
      "Epoch 76/300\n",
      "--------------------------------------------------\n"
     ]
    },
    {
     "name": "stderr",
     "output_type": "stream",
     "text": [
      "\n",
      "Train Loss: 1.4761: 100%|██████████| 35/35 [00:08<00:00,  4.04it/s]\n",
      "Val Loss: 1.2321: 100%|██████████| 8/8 [00:00<00:00,  8.43it/s]\n"
     ]
    },
    {
     "name": "stdout",
     "output_type": "stream",
     "text": [
      "Training Loss: 1.4553, IoU: 0.1076\n",
      "Validation Loss: 1.4407, IoU: 0.1267\n",
      "No improvement in validation loss for 7 epochs\n",
      "\n",
      "Epoch 77/300\n",
      "--------------------------------------------------\n"
     ]
    },
    {
     "name": "stderr",
     "output_type": "stream",
     "text": [
      "Train Loss: 1.3733: 100%|██████████| 35/35 [00:08<00:00,  4.06it/s]\n",
      "Val Loss: 1.3002: 100%|██████████| 8/8 [00:00<00:00,  8.37it/s]"
     ]
    },
    {
     "name": "stdout",
     "output_type": "stream",
     "text": [
      "Training Loss: 1.4451, IoU: 0.1010\n",
      "Validation Loss: 1.5804, IoU: 0.0813\n",
      "No improvement in validation loss for 8 epochs\n",
      "\n",
      "Epoch 78/300\n",
      "--------------------------------------------------\n"
     ]
    },
    {
     "name": "stderr",
     "output_type": "stream",
     "text": [
      "\n",
      "Train Loss: 1.4788: 100%|██████████| 35/35 [00:08<00:00,  4.05it/s]\n",
      "Val Loss: 1.2840: 100%|██████████| 8/8 [00:00<00:00,  8.34it/s]\n"
     ]
    },
    {
     "name": "stdout",
     "output_type": "stream",
     "text": [
      "Training Loss: 1.4542, IoU: 0.1030\n",
      "Validation Loss: 1.4247, IoU: 0.1166\n",
      "Validation loss improved from 1.4367 to 1.4247\n",
      "\n",
      "Epoch 79/300\n",
      "--------------------------------------------------\n"
     ]
    },
    {
     "name": "stderr",
     "output_type": "stream",
     "text": [
      "Train Loss: 1.4974: 100%|██████████| 35/35 [00:08<00:00,  4.07it/s]\n",
      "Val Loss: 1.2553: 100%|██████████| 8/8 [00:00<00:00,  8.41it/s]"
     ]
    },
    {
     "name": "stdout",
     "output_type": "stream",
     "text": [
      "Training Loss: 1.4510, IoU: 0.1063\n",
      "Validation Loss: 1.4449, IoU: 0.1182\n",
      "No improvement in validation loss for 1 epochs\n",
      "\n",
      "Epoch 80/300\n",
      "--------------------------------------------------\n"
     ]
    },
    {
     "name": "stderr",
     "output_type": "stream",
     "text": [
      "\n",
      "Train Loss: 1.5523: 100%|██████████| 35/35 [00:08<00:00,  4.05it/s]\n",
      "Val Loss: 1.1640: 100%|██████████| 8/8 [00:00<00:00,  8.29it/s]"
     ]
    },
    {
     "name": "stdout",
     "output_type": "stream",
     "text": [
      "Training Loss: 1.4535, IoU: 0.0990\n",
      "Validation Loss: 1.5392, IoU: 0.0924\n",
      "No improvement in validation loss for 2 epochs\n",
      "\n",
      "Epoch 81/300\n",
      "--------------------------------------------------\n"
     ]
    },
    {
     "name": "stderr",
     "output_type": "stream",
     "text": [
      "\n",
      "Train Loss: 1.4296: 100%|██████████| 35/35 [00:08<00:00,  4.06it/s]\n",
      "Val Loss: 1.2474: 100%|██████████| 8/8 [00:00<00:00,  8.40it/s]"
     ]
    },
    {
     "name": "stdout",
     "output_type": "stream",
     "text": [
      "Training Loss: 1.4525, IoU: 0.0986\n",
      "Validation Loss: 1.4374, IoU: 0.1113\n",
      "No improvement in validation loss for 3 epochs\n",
      "\n",
      "Epoch 82/300\n",
      "--------------------------------------------------\n"
     ]
    },
    {
     "name": "stderr",
     "output_type": "stream",
     "text": [
      "\n",
      "Train Loss: 1.4715: 100%|██████████| 35/35 [00:08<00:00,  4.06it/s]\n",
      "Val Loss: 1.3648: 100%|██████████| 8/8 [00:00<00:00,  8.44it/s]"
     ]
    },
    {
     "name": "stdout",
     "output_type": "stream",
     "text": [
      "Training Loss: 1.4544, IoU: 0.1020\n",
      "Validation Loss: 1.4734, IoU: 0.1162\n",
      "No improvement in validation loss for 4 epochs\n",
      "\n",
      "Epoch 83/300\n",
      "--------------------------------------------------\n"
     ]
    },
    {
     "name": "stderr",
     "output_type": "stream",
     "text": [
      "\n",
      "Train Loss: 1.4032: 100%|██████████| 35/35 [00:08<00:00,  4.06it/s]\n",
      "Val Loss: 1.2756: 100%|██████████| 8/8 [00:00<00:00,  8.41it/s]"
     ]
    },
    {
     "name": "stdout",
     "output_type": "stream",
     "text": [
      "Training Loss: 1.4416, IoU: 0.0986\n",
      "Validation Loss: 1.4741, IoU: 0.1143\n",
      "No improvement in validation loss for 5 epochs\n",
      "\n",
      "Epoch 84/300\n",
      "--------------------------------------------------\n"
     ]
    },
    {
     "name": "stderr",
     "output_type": "stream",
     "text": [
      "\n",
      "Train Loss: 1.5807: 100%|██████████| 35/35 [00:08<00:00,  4.05it/s]\n",
      "Val Loss: 1.3063: 100%|██████████| 8/8 [00:00<00:00,  8.18it/s]"
     ]
    },
    {
     "name": "stdout",
     "output_type": "stream",
     "text": [
      "Training Loss: 1.4513, IoU: 0.1029\n",
      "Validation Loss: 1.4532, IoU: 0.1091\n",
      "No improvement in validation loss for 6 epochs\n",
      "\n",
      "Epoch 85/300\n",
      "--------------------------------------------------\n"
     ]
    },
    {
     "name": "stderr",
     "output_type": "stream",
     "text": [
      "\n",
      "Train Loss: 1.4383: 100%|██████████| 35/35 [00:08<00:00,  4.04it/s]\n",
      "Val Loss: 1.3801: 100%|██████████| 8/8 [00:00<00:00,  8.38it/s]"
     ]
    },
    {
     "name": "stdout",
     "output_type": "stream",
     "text": [
      "Training Loss: 1.4491, IoU: 0.0998\n",
      "Validation Loss: 1.4718, IoU: 0.1191\n",
      "No improvement in validation loss for 7 epochs\n",
      "\n",
      "Epoch 86/300\n",
      "--------------------------------------------------\n"
     ]
    },
    {
     "name": "stderr",
     "output_type": "stream",
     "text": [
      "\n",
      "Train Loss: 1.3752: 100%|██████████| 35/35 [00:08<00:00,  4.04it/s]\n",
      "Val Loss: 1.1478: 100%|██████████| 8/8 [00:00<00:00,  8.28it/s]"
     ]
    },
    {
     "name": "stdout",
     "output_type": "stream",
     "text": [
      "Training Loss: 1.4329, IoU: 0.1050\n",
      "Validation Loss: 1.4250, IoU: 0.1178\n",
      "No improvement in validation loss for 8 epochs\n",
      "\n",
      "Epoch 87/300\n",
      "--------------------------------------------------\n"
     ]
    },
    {
     "name": "stderr",
     "output_type": "stream",
     "text": [
      "\n",
      "Train Loss: 1.6875: 100%|██████████| 35/35 [00:08<00:00,  4.04it/s]\n",
      "Val Loss: 1.5771: 100%|██████████| 8/8 [00:00<00:00,  8.11it/s]"
     ]
    },
    {
     "name": "stdout",
     "output_type": "stream",
     "text": [
      "Training Loss: 1.4357, IoU: 0.0997\n",
      "Validation Loss: 1.5476, IoU: 0.0962\n",
      "No improvement in validation loss for 9 epochs\n",
      "\n",
      "Epoch 88/300\n",
      "--------------------------------------------------\n"
     ]
    },
    {
     "name": "stderr",
     "output_type": "stream",
     "text": [
      "\n",
      "Train Loss: 1.4206: 100%|██████████| 35/35 [00:08<00:00,  4.05it/s]\n",
      "Val Loss: 1.2522: 100%|██████████| 8/8 [00:00<00:00,  8.27it/s]"
     ]
    },
    {
     "name": "stdout",
     "output_type": "stream",
     "text": [
      "Training Loss: 1.4375, IoU: 0.0987\n",
      "Validation Loss: 1.4318, IoU: 0.1190\n",
      "No improvement in validation loss for 10 epochs\n",
      "\n",
      "Epoch 89/300\n",
      "--------------------------------------------------\n"
     ]
    },
    {
     "name": "stderr",
     "output_type": "stream",
     "text": [
      "\n",
      "Train Loss: 1.4876: 100%|██████████| 35/35 [00:08<00:00,  4.05it/s]\n",
      "Val Loss: 1.2710: 100%|██████████| 8/8 [00:00<00:00,  8.25it/s]"
     ]
    },
    {
     "name": "stdout",
     "output_type": "stream",
     "text": [
      "Training Loss: 1.4300, IoU: 0.0978\n",
      "Validation Loss: 1.4530, IoU: 0.1155\n",
      "No improvement in validation loss for 11 epochs\n",
      "\n",
      "Epoch 90/300\n",
      "--------------------------------------------------\n"
     ]
    },
    {
     "name": "stderr",
     "output_type": "stream",
     "text": [
      "\n",
      "Train Loss: 1.5748: 100%|██████████| 35/35 [00:08<00:00,  4.07it/s]\n",
      "Val Loss: 1.0966: 100%|██████████| 8/8 [00:00<00:00,  8.22it/s]"
     ]
    },
    {
     "name": "stdout",
     "output_type": "stream",
     "text": [
      "Training Loss: 1.4439, IoU: 0.1012\n",
      "Validation Loss: 1.4293, IoU: 0.0924\n",
      "No improvement in validation loss for 12 epochs\n",
      "\n",
      "Epoch 91/300\n",
      "--------------------------------------------------\n"
     ]
    },
    {
     "name": "stderr",
     "output_type": "stream",
     "text": [
      "\n",
      "Train Loss: 1.3697: 100%|██████████| 35/35 [00:08<00:00,  4.06it/s]\n",
      "Val Loss: 1.2669: 100%|██████████| 8/8 [00:00<00:00,  8.51it/s]"
     ]
    },
    {
     "name": "stdout",
     "output_type": "stream",
     "text": [
      "Training Loss: 1.4212, IoU: 0.0969\n",
      "Validation Loss: 1.4489, IoU: 0.1000\n",
      "No improvement in validation loss for 13 epochs\n",
      "\n",
      "Epoch 92/300\n",
      "--------------------------------------------------\n"
     ]
    },
    {
     "name": "stderr",
     "output_type": "stream",
     "text": [
      "\n",
      "Train Loss: 1.4296: 100%|██████████| 35/35 [00:08<00:00,  4.05it/s]\n",
      "Val Loss: 1.1624: 100%|██████████| 8/8 [00:00<00:00,  8.39it/s]"
     ]
    },
    {
     "name": "stdout",
     "output_type": "stream",
     "text": [
      "Training Loss: 1.4119, IoU: 0.1092\n",
      "Validation Loss: 1.4110, IoU: 0.1016\n",
      "Validation loss improved from 1.4247 to 1.4110\n",
      "\n",
      "Epoch 93/300\n",
      "--------------------------------------------------\n"
     ]
    },
    {
     "name": "stderr",
     "output_type": "stream",
     "text": [
      "\n",
      "Train Loss: 1.3572: 100%|██████████| 35/35 [00:08<00:00,  4.06it/s]\n",
      "Val Loss: 1.2866: 100%|██████████| 8/8 [00:00<00:00,  8.24it/s]"
     ]
    },
    {
     "name": "stdout",
     "output_type": "stream",
     "text": [
      "Training Loss: 1.4160, IoU: 0.0963\n",
      "Validation Loss: 1.4838, IoU: 0.1227\n",
      "No improvement in validation loss for 1 epochs\n",
      "\n",
      "Epoch 94/300\n",
      "--------------------------------------------------\n"
     ]
    },
    {
     "name": "stderr",
     "output_type": "stream",
     "text": [
      "\n",
      "Train Loss: 1.3593: 100%|██████████| 35/35 [00:08<00:00,  4.07it/s]\n",
      "Val Loss: 1.3623: 100%|██████████| 8/8 [00:00<00:00,  8.38it/s]"
     ]
    },
    {
     "name": "stdout",
     "output_type": "stream",
     "text": [
      "Training Loss: 1.4244, IoU: 0.1098\n",
      "Validation Loss: 1.4376, IoU: 0.1153\n",
      "No improvement in validation loss for 2 epochs\n",
      "\n",
      "Epoch 95/300\n",
      "--------------------------------------------------\n"
     ]
    },
    {
     "name": "stderr",
     "output_type": "stream",
     "text": [
      "\n",
      "Train Loss: 1.6553: 100%|██████████| 35/35 [00:08<00:00,  4.08it/s]\n",
      "Val Loss: 1.2019: 100%|██████████| 8/8 [00:00<00:00,  8.30it/s]"
     ]
    },
    {
     "name": "stdout",
     "output_type": "stream",
     "text": [
      "Training Loss: 1.4048, IoU: 0.1043\n",
      "Validation Loss: 1.4695, IoU: 0.1080\n",
      "No improvement in validation loss for 3 epochs\n",
      "\n",
      "Epoch 96/300\n",
      "--------------------------------------------------\n"
     ]
    },
    {
     "name": "stderr",
     "output_type": "stream",
     "text": [
      "\n",
      "Train Loss: 1.3641: 100%|██████████| 35/35 [00:08<00:00,  4.06it/s]\n",
      "Val Loss: 1.1560: 100%|██████████| 8/8 [00:00<00:00,  8.30it/s]"
     ]
    },
    {
     "name": "stdout",
     "output_type": "stream",
     "text": [
      "Training Loss: 1.4270, IoU: 0.1059\n",
      "Validation Loss: 1.4247, IoU: 0.1112\n",
      "No improvement in validation loss for 4 epochs\n",
      "\n",
      "Epoch 97/300\n",
      "--------------------------------------------------\n"
     ]
    },
    {
     "name": "stderr",
     "output_type": "stream",
     "text": [
      "\n",
      "Train Loss: 1.5331: 100%|██████████| 35/35 [00:08<00:00,  4.06it/s]\n",
      "Val Loss: 1.2009: 100%|██████████| 8/8 [00:00<00:00,  8.45it/s]"
     ]
    },
    {
     "name": "stdout",
     "output_type": "stream",
     "text": [
      "Training Loss: 1.4275, IoU: 0.1120\n",
      "Validation Loss: 1.4286, IoU: 0.1220\n",
      "No improvement in validation loss for 5 epochs\n",
      "\n",
      "Epoch 98/300\n",
      "--------------------------------------------------\n"
     ]
    },
    {
     "name": "stderr",
     "output_type": "stream",
     "text": [
      "\n",
      "Train Loss: 1.3813: 100%|██████████| 35/35 [00:08<00:00,  4.07it/s]\n",
      "Val Loss: 1.2481: 100%|██████████| 8/8 [00:00<00:00,  8.58it/s]"
     ]
    },
    {
     "name": "stdout",
     "output_type": "stream",
     "text": [
      "Training Loss: 1.4103, IoU: 0.1082\n",
      "Validation Loss: 1.4334, IoU: 0.1149\n",
      "No improvement in validation loss for 6 epochs\n",
      "\n",
      "Epoch 99/300\n",
      "--------------------------------------------------\n"
     ]
    },
    {
     "name": "stderr",
     "output_type": "stream",
     "text": [
      "\n",
      "Train Loss: 1.4796: 100%|██████████| 35/35 [00:08<00:00,  4.05it/s]\n",
      "Val Loss: 1.2671: 100%|██████████| 8/8 [00:00<00:00,  8.37it/s]"
     ]
    },
    {
     "name": "stdout",
     "output_type": "stream",
     "text": [
      "Training Loss: 1.4162, IoU: 0.1011\n",
      "Validation Loss: 1.4209, IoU: 0.1040\n",
      "No improvement in validation loss for 7 epochs\n",
      "\n",
      "Epoch 100/300\n",
      "--------------------------------------------------\n"
     ]
    },
    {
     "name": "stderr",
     "output_type": "stream",
     "text": [
      "\n",
      "Train Loss: 1.4326: 100%|██████████| 35/35 [00:08<00:00,  4.07it/s]\n",
      "Val Loss: 1.1605: 100%|██████████| 8/8 [00:00<00:00,  8.41it/s]"
     ]
    },
    {
     "name": "stdout",
     "output_type": "stream",
     "text": [
      "Training Loss: 1.4117, IoU: 0.1010\n",
      "Validation Loss: 1.4125, IoU: 0.1044\n",
      "No improvement in validation loss for 8 epochs\n",
      "\n",
      "Epoch 101/300\n",
      "--------------------------------------------------\n"
     ]
    },
    {
     "name": "stderr",
     "output_type": "stream",
     "text": [
      "\n",
      "Train Loss: 1.3693: 100%|██████████| 35/35 [00:08<00:00,  4.08it/s]\n",
      "Val Loss: 1.1807: 100%|██████████| 8/8 [00:00<00:00,  8.41it/s]"
     ]
    },
    {
     "name": "stdout",
     "output_type": "stream",
     "text": [
      "Training Loss: 1.4039, IoU: 0.1046\n",
      "Validation Loss: 1.4368, IoU: 0.0882\n",
      "No improvement in validation loss for 9 epochs\n",
      "\n",
      "Epoch 102/300\n",
      "--------------------------------------------------\n"
     ]
    },
    {
     "name": "stderr",
     "output_type": "stream",
     "text": [
      "\n",
      "Train Loss: 1.4992: 100%|██████████| 35/35 [00:08<00:00,  4.06it/s]\n",
      "Val Loss: 1.2620: 100%|██████████| 8/8 [00:00<00:00,  8.39it/s]"
     ]
    },
    {
     "name": "stdout",
     "output_type": "stream",
     "text": [
      "Training Loss: 1.4060, IoU: 0.0956\n",
      "Validation Loss: 1.4200, IoU: 0.1170\n",
      "No improvement in validation loss for 10 epochs\n",
      "\n",
      "Epoch 103/300\n",
      "--------------------------------------------------\n"
     ]
    },
    {
     "name": "stderr",
     "output_type": "stream",
     "text": [
      "\n",
      "Train Loss: 1.1831: 100%|██████████| 35/35 [00:08<00:00,  4.05it/s]\n",
      "Val Loss: 1.3116: 100%|██████████| 8/8 [00:00<00:00,  8.32it/s]"
     ]
    },
    {
     "name": "stdout",
     "output_type": "stream",
     "text": [
      "Training Loss: 1.4053, IoU: 0.1057\n",
      "Validation Loss: 1.4551, IoU: 0.1146\n",
      "No improvement in validation loss for 11 epochs\n",
      "\n",
      "Epoch 104/300\n",
      "--------------------------------------------------\n"
     ]
    },
    {
     "name": "stderr",
     "output_type": "stream",
     "text": [
      "\n",
      "Train Loss: 1.3916: 100%|██████████| 35/35 [00:08<00:00,  4.06it/s]\n",
      "Val Loss: 1.3770: 100%|██████████| 8/8 [00:00<00:00,  8.48it/s]"
     ]
    },
    {
     "name": "stdout",
     "output_type": "stream",
     "text": [
      "Training Loss: 1.4113, IoU: 0.1049\n",
      "Validation Loss: 1.4044, IoU: 0.1154\n",
      "Validation loss improved from 1.4110 to 1.4044\n",
      "\n",
      "Epoch 105/300\n",
      "--------------------------------------------------\n"
     ]
    },
    {
     "name": "stderr",
     "output_type": "stream",
     "text": [
      "\n",
      "Train Loss: 1.4184: 100%|██████████| 35/35 [00:08<00:00,  4.06it/s]\n",
      "Val Loss: 1.4879: 100%|██████████| 8/8 [00:00<00:00,  8.49it/s]"
     ]
    },
    {
     "name": "stdout",
     "output_type": "stream",
     "text": [
      "Training Loss: 1.3995, IoU: 0.1036\n",
      "Validation Loss: 1.4723, IoU: 0.1273\n",
      "No improvement in validation loss for 1 epochs\n",
      "\n",
      "Epoch 106/300\n",
      "--------------------------------------------------\n"
     ]
    },
    {
     "name": "stderr",
     "output_type": "stream",
     "text": [
      "\n",
      "Train Loss: 1.6492: 100%|██████████| 35/35 [00:08<00:00,  4.05it/s]\n",
      "Val Loss: 1.1979: 100%|██████████| 8/8 [00:00<00:00,  8.46it/s]"
     ]
    },
    {
     "name": "stdout",
     "output_type": "stream",
     "text": [
      "Training Loss: 1.4069, IoU: 0.1098\n",
      "Validation Loss: 1.3853, IoU: 0.1248\n",
      "Validation loss improved from 1.4044 to 1.3853\n",
      "\n",
      "Epoch 107/300\n",
      "--------------------------------------------------\n"
     ]
    },
    {
     "name": "stderr",
     "output_type": "stream",
     "text": [
      "\n",
      "Train Loss: 1.4493: 100%|██████████| 35/35 [00:08<00:00,  4.05it/s]\n",
      "Val Loss: 1.1635: 100%|██████████| 8/8 [00:00<00:00,  8.37it/s]"
     ]
    },
    {
     "name": "stdout",
     "output_type": "stream",
     "text": [
      "Training Loss: 1.4207, IoU: 0.0976\n",
      "Validation Loss: 1.4292, IoU: 0.0932\n",
      "No improvement in validation loss for 1 epochs\n",
      "\n",
      "Epoch 108/300\n",
      "--------------------------------------------------\n"
     ]
    },
    {
     "name": "stderr",
     "output_type": "stream",
     "text": [
      "\n",
      "Train Loss: 1.2684: 100%|██████████| 35/35 [00:08<00:00,  4.06it/s]\n",
      "Val Loss: 1.2410: 100%|██████████| 8/8 [00:00<00:00,  8.53it/s]"
     ]
    },
    {
     "name": "stdout",
     "output_type": "stream",
     "text": [
      "Training Loss: 1.4042, IoU: 0.0941\n",
      "Validation Loss: 1.4255, IoU: 0.1232\n",
      "No improvement in validation loss for 2 epochs\n",
      "\n",
      "Epoch 109/300\n",
      "--------------------------------------------------\n"
     ]
    },
    {
     "name": "stderr",
     "output_type": "stream",
     "text": [
      "\n",
      "Train Loss: 1.4428: 100%|██████████| 35/35 [00:08<00:00,  4.08it/s]\n",
      "Val Loss: 1.1805: 100%|██████████| 8/8 [00:00<00:00,  8.58it/s]"
     ]
    },
    {
     "name": "stdout",
     "output_type": "stream",
     "text": [
      "Training Loss: 1.4061, IoU: 0.1032\n",
      "Validation Loss: 1.4323, IoU: 0.1003\n",
      "No improvement in validation loss for 3 epochs\n",
      "\n",
      "Epoch 110/300\n",
      "--------------------------------------------------\n"
     ]
    },
    {
     "name": "stderr",
     "output_type": "stream",
     "text": [
      "\n",
      "Train Loss: 1.3573: 100%|██████████| 35/35 [00:08<00:00,  4.08it/s]\n",
      "Val Loss: 1.2766: 100%|██████████| 8/8 [00:00<00:00,  8.43it/s]"
     ]
    },
    {
     "name": "stdout",
     "output_type": "stream",
     "text": [
      "Training Loss: 1.3979, IoU: 0.1123\n",
      "Validation Loss: 1.4235, IoU: 0.1120\n",
      "No improvement in validation loss for 4 epochs\n",
      "\n",
      "Epoch 111/300\n",
      "--------------------------------------------------\n"
     ]
    },
    {
     "name": "stderr",
     "output_type": "stream",
     "text": [
      "\n",
      "Train Loss: 1.5793: 100%|██████████| 35/35 [00:08<00:00,  4.06it/s]\n",
      "Val Loss: 1.3363: 100%|██████████| 8/8 [00:00<00:00,  8.43it/s]"
     ]
    },
    {
     "name": "stdout",
     "output_type": "stream",
     "text": [
      "Training Loss: 1.4062, IoU: 0.1044\n",
      "Validation Loss: 1.4120, IoU: 0.1074\n",
      "No improvement in validation loss for 5 epochs\n",
      "\n",
      "Epoch 112/300\n",
      "--------------------------------------------------\n"
     ]
    },
    {
     "name": "stderr",
     "output_type": "stream",
     "text": [
      "\n",
      "Train Loss: 1.4068: 100%|██████████| 35/35 [00:08<00:00,  4.07it/s]\n",
      "Val Loss: 1.2053: 100%|██████████| 8/8 [00:00<00:00,  8.59it/s]"
     ]
    },
    {
     "name": "stdout",
     "output_type": "stream",
     "text": [
      "Training Loss: 1.3914, IoU: 0.1077\n",
      "Validation Loss: 1.4343, IoU: 0.1026\n",
      "No improvement in validation loss for 6 epochs\n",
      "\n",
      "Epoch 113/300\n",
      "--------------------------------------------------\n"
     ]
    },
    {
     "name": "stderr",
     "output_type": "stream",
     "text": [
      "\n",
      "Train Loss: 1.3661: 100%|██████████| 35/35 [00:08<00:00,  4.06it/s]\n",
      "Val Loss: 1.2201: 100%|██████████| 8/8 [00:00<00:00,  8.47it/s]"
     ]
    },
    {
     "name": "stdout",
     "output_type": "stream",
     "text": [
      "Training Loss: 1.3931, IoU: 0.1131\n",
      "Validation Loss: 1.4439, IoU: 0.1035\n",
      "No improvement in validation loss for 7 epochs\n",
      "\n",
      "Epoch 114/300\n",
      "--------------------------------------------------\n"
     ]
    },
    {
     "name": "stderr",
     "output_type": "stream",
     "text": [
      "\n",
      "Train Loss: 1.6594: 100%|██████████| 35/35 [00:08<00:00,  4.07it/s]\n",
      "Val Loss: 1.1359: 100%|██████████| 8/8 [00:00<00:00,  8.29it/s]"
     ]
    },
    {
     "name": "stdout",
     "output_type": "stream",
     "text": [
      "Training Loss: 1.3964, IoU: 0.1007\n",
      "Validation Loss: 1.4495, IoU: 0.1138\n",
      "No improvement in validation loss for 8 epochs\n",
      "\n",
      "Epoch 115/300\n",
      "--------------------------------------------------\n"
     ]
    },
    {
     "name": "stderr",
     "output_type": "stream",
     "text": [
      "\n",
      "Train Loss: 1.2957: 100%|██████████| 35/35 [00:08<00:00,  4.08it/s]\n",
      "Val Loss: 1.2247: 100%|██████████| 8/8 [00:00<00:00,  8.50it/s]"
     ]
    },
    {
     "name": "stdout",
     "output_type": "stream",
     "text": [
      "Training Loss: 1.3951, IoU: 0.1067\n",
      "Validation Loss: 1.3874, IoU: 0.1122\n",
      "No improvement in validation loss for 9 epochs\n",
      "\n",
      "Epoch 116/300\n",
      "--------------------------------------------------\n"
     ]
    },
    {
     "name": "stderr",
     "output_type": "stream",
     "text": [
      "\n",
      "Train Loss: 1.7175: 100%|██████████| 35/35 [00:08<00:00,  4.08it/s]\n",
      "Val Loss: 1.1560: 100%|██████████| 8/8 [00:00<00:00,  8.33it/s]"
     ]
    },
    {
     "name": "stdout",
     "output_type": "stream",
     "text": [
      "Training Loss: 1.3908, IoU: 0.1086\n",
      "Validation Loss: 1.3937, IoU: 0.1219\n",
      "No improvement in validation loss for 10 epochs\n",
      "\n",
      "Epoch 117/300\n",
      "--------------------------------------------------\n"
     ]
    },
    {
     "name": "stderr",
     "output_type": "stream",
     "text": [
      "\n",
      "Train Loss: 1.5245: 100%|██████████| 35/35 [00:08<00:00,  4.07it/s]\n",
      "Val Loss: 1.2120: 100%|██████████| 8/8 [00:00<00:00,  8.44it/s]"
     ]
    },
    {
     "name": "stdout",
     "output_type": "stream",
     "text": [
      "Training Loss: 1.3796, IoU: 0.1056\n",
      "Validation Loss: 1.3999, IoU: 0.1188\n",
      "No improvement in validation loss for 11 epochs\n",
      "\n",
      "Epoch 118/300\n",
      "--------------------------------------------------\n"
     ]
    },
    {
     "name": "stderr",
     "output_type": "stream",
     "text": [
      "\n",
      "Train Loss: 1.6467: 100%|██████████| 35/35 [00:08<00:00,  4.07it/s]\n",
      "Val Loss: 1.2953: 100%|██████████| 8/8 [00:00<00:00,  8.40it/s]"
     ]
    },
    {
     "name": "stdout",
     "output_type": "stream",
     "text": [
      "Training Loss: 1.3860, IoU: 0.1111\n",
      "Validation Loss: 1.4514, IoU: 0.0945\n",
      "No improvement in validation loss for 12 epochs\n",
      "\n",
      "Epoch 119/300\n",
      "--------------------------------------------------\n"
     ]
    },
    {
     "name": "stderr",
     "output_type": "stream",
     "text": [
      "\n",
      "Train Loss: 1.3880: 100%|██████████| 35/35 [00:08<00:00,  4.07it/s]\n",
      "Val Loss: 1.2109: 100%|██████████| 8/8 [00:00<00:00,  8.51it/s]"
     ]
    },
    {
     "name": "stdout",
     "output_type": "stream",
     "text": [
      "Training Loss: 1.3914, IoU: 0.1004\n",
      "Validation Loss: 1.4540, IoU: 0.1225\n",
      "No improvement in validation loss for 13 epochs\n",
      "\n",
      "Epoch 120/300\n",
      "--------------------------------------------------\n"
     ]
    },
    {
     "name": "stderr",
     "output_type": "stream",
     "text": [
      "\n",
      "Train Loss: 1.3308: 100%|██████████| 35/35 [00:08<00:00,  4.06it/s]\n",
      "Val Loss: 1.2211: 100%|██████████| 8/8 [00:00<00:00,  8.38it/s]"
     ]
    },
    {
     "name": "stdout",
     "output_type": "stream",
     "text": [
      "Training Loss: 1.3758, IoU: 0.1139\n",
      "Validation Loss: 1.4825, IoU: 0.1216\n",
      "No improvement in validation loss for 14 epochs\n",
      "\n",
      "Epoch 121/300\n",
      "--------------------------------------------------\n"
     ]
    },
    {
     "name": "stderr",
     "output_type": "stream",
     "text": [
      "\n",
      "Train Loss: 1.3454: 100%|██████████| 35/35 [00:08<00:00,  4.07it/s]\n",
      "Val Loss: 1.4906: 100%|██████████| 8/8 [00:00<00:00,  8.48it/s]"
     ]
    },
    {
     "name": "stdout",
     "output_type": "stream",
     "text": [
      "Training Loss: 1.3903, IoU: 0.1132\n",
      "Validation Loss: 1.4894, IoU: 0.0875\n",
      "No improvement in validation loss for 15 epochs\n",
      "\n",
      "Epoch 122/300\n",
      "--------------------------------------------------\n"
     ]
    },
    {
     "name": "stderr",
     "output_type": "stream",
     "text": [
      "\n",
      "Train Loss: 1.5655: 100%|██████████| 35/35 [00:08<00:00,  4.06it/s]\n",
      "Val Loss: 1.3940: 100%|██████████| 8/8 [00:00<00:00,  8.37it/s]"
     ]
    },
    {
     "name": "stdout",
     "output_type": "stream",
     "text": [
      "Training Loss: 1.3864, IoU: 0.1114\n",
      "Validation Loss: 1.4114, IoU: 0.1235\n",
      "No improvement in validation loss for 16 epochs\n",
      "\n",
      "Epoch 123/300\n",
      "--------------------------------------------------\n"
     ]
    },
    {
     "name": "stderr",
     "output_type": "stream",
     "text": [
      "\n",
      "Train Loss: 1.5230: 100%|██████████| 35/35 [00:08<00:00,  4.07it/s]\n",
      "Val Loss: 1.2662: 100%|██████████| 8/8 [00:00<00:00,  8.33it/s]"
     ]
    },
    {
     "name": "stdout",
     "output_type": "stream",
     "text": [
      "Training Loss: 1.3883, IoU: 0.1097\n",
      "Validation Loss: 1.4241, IoU: 0.1206\n",
      "No improvement in validation loss for 17 epochs\n",
      "\n",
      "Epoch 124/300\n",
      "--------------------------------------------------\n"
     ]
    },
    {
     "name": "stderr",
     "output_type": "stream",
     "text": [
      "\n",
      "Train Loss: 1.4562: 100%|██████████| 35/35 [00:08<00:00,  4.07it/s]\n",
      "Val Loss: 1.1333: 100%|██████████| 8/8 [00:00<00:00,  8.45it/s]"
     ]
    },
    {
     "name": "stdout",
     "output_type": "stream",
     "text": [
      "Training Loss: 1.3791, IoU: 0.1253\n",
      "Validation Loss: 1.3721, IoU: 0.1065\n",
      "Validation loss improved from 1.3853 to 1.3721\n",
      "\n",
      "Epoch 125/300\n",
      "--------------------------------------------------\n"
     ]
    },
    {
     "name": "stderr",
     "output_type": "stream",
     "text": [
      "\n",
      "Train Loss: 1.4537: 100%|██████████| 35/35 [00:08<00:00,  4.07it/s]\n",
      "Val Loss: 1.2326: 100%|██████████| 8/8 [00:00<00:00,  8.59it/s]"
     ]
    },
    {
     "name": "stdout",
     "output_type": "stream",
     "text": [
      "Training Loss: 1.3800, IoU: 0.1078\n",
      "Validation Loss: 1.3908, IoU: 0.1084\n",
      "No improvement in validation loss for 1 epochs\n",
      "\n",
      "Epoch 126/300\n",
      "--------------------------------------------------\n"
     ]
    },
    {
     "name": "stderr",
     "output_type": "stream",
     "text": [
      "\n",
      "Train Loss: 1.3360: 100%|██████████| 35/35 [00:08<00:00,  4.08it/s]\n",
      "Val Loss: 1.0937: 100%|██████████| 8/8 [00:00<00:00,  8.23it/s]\n"
     ]
    },
    {
     "name": "stdout",
     "output_type": "stream",
     "text": [
      "Training Loss: 1.3908, IoU: 0.1059\n",
      "Validation Loss: 1.4127, IoU: 0.0851\n",
      "No improvement in validation loss for 2 epochs\n",
      "\n",
      "Epoch 127/300\n",
      "--------------------------------------------------\n"
     ]
    },
    {
     "name": "stderr",
     "output_type": "stream",
     "text": [
      "Train Loss: 1.3953: 100%|██████████| 35/35 [00:08<00:00,  4.06it/s]\n",
      "Val Loss: 1.1484: 100%|██████████| 8/8 [00:00<00:00,  8.40it/s]"
     ]
    },
    {
     "name": "stdout",
     "output_type": "stream",
     "text": [
      "Training Loss: 1.3801, IoU: 0.0985\n",
      "Validation Loss: 1.3894, IoU: 0.1054\n",
      "No improvement in validation loss for 3 epochs\n",
      "\n",
      "Epoch 128/300\n",
      "--------------------------------------------------\n"
     ]
    },
    {
     "name": "stderr",
     "output_type": "stream",
     "text": [
      "\n",
      "Train Loss: 1.3149: 100%|██████████| 35/35 [00:08<00:00,  4.07it/s]\n",
      "Val Loss: 1.0846: 100%|██████████| 8/8 [00:00<00:00,  8.46it/s]"
     ]
    },
    {
     "name": "stdout",
     "output_type": "stream",
     "text": [
      "Training Loss: 1.3826, IoU: 0.1088\n",
      "Validation Loss: 1.3954, IoU: 0.1427\n",
      "No improvement in validation loss for 4 epochs\n",
      "\n",
      "Epoch 129/300\n",
      "--------------------------------------------------\n"
     ]
    },
    {
     "name": "stderr",
     "output_type": "stream",
     "text": [
      "\n",
      "Train Loss: 1.3738: 100%|██████████| 35/35 [00:08<00:00,  4.08it/s]\n",
      "Val Loss: 1.2205: 100%|██████████| 8/8 [00:00<00:00,  8.42it/s]"
     ]
    },
    {
     "name": "stdout",
     "output_type": "stream",
     "text": [
      "Training Loss: 1.3740, IoU: 0.1024\n",
      "Validation Loss: 1.4086, IoU: 0.1155\n",
      "No improvement in validation loss for 5 epochs\n",
      "\n",
      "Epoch 130/300\n",
      "--------------------------------------------------\n"
     ]
    },
    {
     "name": "stderr",
     "output_type": "stream",
     "text": [
      "\n",
      "Train Loss: 1.5243: 100%|██████████| 35/35 [00:08<00:00,  4.07it/s]\n",
      "Val Loss: 1.2600: 100%|██████████| 8/8 [00:00<00:00,  8.35it/s]"
     ]
    },
    {
     "name": "stdout",
     "output_type": "stream",
     "text": [
      "Training Loss: 1.3657, IoU: 0.1127\n",
      "Validation Loss: 1.4148, IoU: 0.1150\n",
      "No improvement in validation loss for 6 epochs\n",
      "\n",
      "Epoch 131/300\n",
      "--------------------------------------------------\n"
     ]
    },
    {
     "name": "stderr",
     "output_type": "stream",
     "text": [
      "\n",
      "Train Loss: 1.3564: 100%|██████████| 35/35 [00:08<00:00,  4.07it/s]\n",
      "Val Loss: 1.2069: 100%|██████████| 8/8 [00:00<00:00,  8.48it/s]"
     ]
    },
    {
     "name": "stdout",
     "output_type": "stream",
     "text": [
      "Training Loss: 1.3613, IoU: 0.1166\n",
      "Validation Loss: 1.4261, IoU: 0.1173\n",
      "No improvement in validation loss for 7 epochs\n",
      "\n",
      "Epoch 132/300\n",
      "--------------------------------------------------\n"
     ]
    },
    {
     "name": "stderr",
     "output_type": "stream",
     "text": [
      "\n",
      "Train Loss: 1.3356: 100%|██████████| 35/35 [00:08<00:00,  4.06it/s]\n",
      "Val Loss: 1.3333: 100%|██████████| 8/8 [00:00<00:00,  8.49it/s]"
     ]
    },
    {
     "name": "stdout",
     "output_type": "stream",
     "text": [
      "Training Loss: 1.3644, IoU: 0.1099\n",
      "Validation Loss: 1.4532, IoU: 0.0854\n",
      "No improvement in validation loss for 8 epochs\n",
      "\n",
      "Epoch 133/300\n",
      "--------------------------------------------------\n"
     ]
    },
    {
     "name": "stderr",
     "output_type": "stream",
     "text": [
      "\n",
      "Train Loss: 1.3037: 100%|██████████| 35/35 [00:08<00:00,  4.06it/s]\n",
      "Val Loss: 1.1699: 100%|██████████| 8/8 [00:00<00:00,  8.20it/s]"
     ]
    },
    {
     "name": "stdout",
     "output_type": "stream",
     "text": [
      "Training Loss: 1.3683, IoU: 0.1135\n",
      "Validation Loss: 1.4125, IoU: 0.1194\n",
      "No improvement in validation loss for 9 epochs\n",
      "\n",
      "Epoch 134/300\n",
      "--------------------------------------------------\n"
     ]
    },
    {
     "name": "stderr",
     "output_type": "stream",
     "text": [
      "\n",
      "Train Loss: 1.2267: 100%|██████████| 35/35 [00:08<00:00,  4.06it/s]\n",
      "Val Loss: 1.1165: 100%|██████████| 8/8 [00:00<00:00,  8.41it/s]"
     ]
    },
    {
     "name": "stdout",
     "output_type": "stream",
     "text": [
      "Training Loss: 1.3669, IoU: 0.1108\n",
      "Validation Loss: 1.4476, IoU: 0.1012\n",
      "No improvement in validation loss for 10 epochs\n",
      "\n",
      "Epoch 135/300\n",
      "--------------------------------------------------\n"
     ]
    },
    {
     "name": "stderr",
     "output_type": "stream",
     "text": [
      "\n",
      "Train Loss: 1.4638: 100%|██████████| 35/35 [00:08<00:00,  4.07it/s]\n",
      "Val Loss: 1.1692: 100%|██████████| 8/8 [00:00<00:00,  8.28it/s]"
     ]
    },
    {
     "name": "stdout",
     "output_type": "stream",
     "text": [
      "Training Loss: 1.3657, IoU: 0.1116\n",
      "Validation Loss: 1.4079, IoU: 0.1353\n",
      "No improvement in validation loss for 11 epochs\n",
      "\n",
      "Epoch 136/300\n",
      "--------------------------------------------------\n"
     ]
    },
    {
     "name": "stderr",
     "output_type": "stream",
     "text": [
      "\n",
      "Train Loss: 1.5337: 100%|██████████| 35/35 [00:08<00:00,  4.07it/s]\n",
      "Val Loss: 1.0724: 100%|██████████| 8/8 [00:00<00:00,  8.46it/s]"
     ]
    },
    {
     "name": "stdout",
     "output_type": "stream",
     "text": [
      "Training Loss: 1.3710, IoU: 0.1071\n",
      "Validation Loss: 1.3913, IoU: 0.1134\n",
      "No improvement in validation loss for 12 epochs\n",
      "\n",
      "Epoch 137/300\n",
      "--------------------------------------------------\n"
     ]
    },
    {
     "name": "stderr",
     "output_type": "stream",
     "text": [
      "\n",
      "Train Loss: 1.4644: 100%|██████████| 35/35 [00:08<00:00,  4.06it/s]\n",
      "Val Loss: 1.1808: 100%|██████████| 8/8 [00:00<00:00,  8.44it/s]"
     ]
    },
    {
     "name": "stdout",
     "output_type": "stream",
     "text": [
      "Training Loss: 1.3517, IoU: 0.1175\n",
      "Validation Loss: 1.3612, IoU: 0.1177\n",
      "Validation loss improved from 1.3721 to 1.3612\n",
      "\n",
      "Epoch 138/300\n",
      "--------------------------------------------------\n"
     ]
    },
    {
     "name": "stderr",
     "output_type": "stream",
     "text": [
      "\n",
      "Train Loss: 1.3682: 100%|██████████| 35/35 [00:08<00:00,  4.06it/s]\n",
      "Val Loss: 1.1005: 100%|██████████| 8/8 [00:00<00:00,  8.33it/s]"
     ]
    },
    {
     "name": "stdout",
     "output_type": "stream",
     "text": [
      "Training Loss: 1.3669, IoU: 0.1181\n",
      "Validation Loss: 1.4270, IoU: 0.1481\n",
      "No improvement in validation loss for 1 epochs\n",
      "\n",
      "Epoch 139/300\n",
      "--------------------------------------------------\n"
     ]
    },
    {
     "name": "stderr",
     "output_type": "stream",
     "text": [
      "\n",
      "Train Loss: 1.3189: 100%|██████████| 35/35 [00:08<00:00,  4.07it/s]\n",
      "Val Loss: 1.0769: 100%|██████████| 8/8 [00:00<00:00,  8.34it/s]"
     ]
    },
    {
     "name": "stdout",
     "output_type": "stream",
     "text": [
      "Training Loss: 1.3506, IoU: 0.1184\n",
      "Validation Loss: 1.3689, IoU: 0.1250\n",
      "No improvement in validation loss for 2 epochs\n",
      "\n",
      "Epoch 140/300\n",
      "--------------------------------------------------\n"
     ]
    },
    {
     "name": "stderr",
     "output_type": "stream",
     "text": [
      "\n",
      "Train Loss: 1.4307: 100%|██████████| 35/35 [00:08<00:00,  4.07it/s]\n",
      "Val Loss: 1.3160: 100%|██████████| 8/8 [00:00<00:00,  8.17it/s]\n"
     ]
    },
    {
     "name": "stdout",
     "output_type": "stream",
     "text": [
      "Training Loss: 1.3563, IoU: 0.1226\n",
      "Validation Loss: 1.4483, IoU: 0.1135\n",
      "No improvement in validation loss for 3 epochs\n",
      "\n",
      "Epoch 141/300\n",
      "--------------------------------------------------\n"
     ]
    },
    {
     "name": "stderr",
     "output_type": "stream",
     "text": [
      "Train Loss: 1.3936: 100%|██████████| 35/35 [00:08<00:00,  4.06it/s]\n",
      "Val Loss: 1.1217: 100%|██████████| 8/8 [00:00<00:00,  8.54it/s]"
     ]
    },
    {
     "name": "stdout",
     "output_type": "stream",
     "text": [
      "Training Loss: 1.3542, IoU: 0.1254\n",
      "Validation Loss: 1.3806, IoU: 0.1368\n",
      "No improvement in validation loss for 4 epochs\n",
      "\n",
      "Epoch 142/300\n",
      "--------------------------------------------------\n"
     ]
    },
    {
     "name": "stderr",
     "output_type": "stream",
     "text": [
      "\n",
      "Train Loss: 1.3345: 100%|██████████| 35/35 [00:08<00:00,  4.06it/s]\n",
      "Val Loss: 1.1420: 100%|██████████| 8/8 [00:00<00:00,  8.11it/s]"
     ]
    },
    {
     "name": "stdout",
     "output_type": "stream",
     "text": [
      "Training Loss: 1.3540, IoU: 0.1222\n",
      "Validation Loss: 1.3816, IoU: 0.1216\n",
      "No improvement in validation loss for 5 epochs\n",
      "\n",
      "Epoch 143/300\n",
      "--------------------------------------------------\n"
     ]
    },
    {
     "name": "stderr",
     "output_type": "stream",
     "text": [
      "\n",
      "Train Loss: 1.3846: 100%|██████████| 35/35 [00:08<00:00,  4.05it/s]\n",
      "Val Loss: 1.2589: 100%|██████████| 8/8 [00:00<00:00,  8.46it/s]"
     ]
    },
    {
     "name": "stdout",
     "output_type": "stream",
     "text": [
      "Training Loss: 1.3443, IoU: 0.1312\n",
      "Validation Loss: 1.4327, IoU: 0.1139\n",
      "No improvement in validation loss for 6 epochs\n",
      "\n",
      "Epoch 144/300\n",
      "--------------------------------------------------\n"
     ]
    },
    {
     "name": "stderr",
     "output_type": "stream",
     "text": [
      "\n",
      "Train Loss: 1.3852: 100%|██████████| 35/35 [00:08<00:00,  4.07it/s]\n",
      "Val Loss: 1.2489: 100%|██████████| 8/8 [00:00<00:00,  8.35it/s]"
     ]
    },
    {
     "name": "stdout",
     "output_type": "stream",
     "text": [
      "Training Loss: 1.3610, IoU: 0.1142\n",
      "Validation Loss: 1.3796, IoU: 0.1130\n",
      "No improvement in validation loss for 7 epochs\n",
      "\n",
      "Epoch 145/300\n",
      "--------------------------------------------------\n"
     ]
    },
    {
     "name": "stderr",
     "output_type": "stream",
     "text": [
      "\n",
      "Train Loss: 1.2836: 100%|██████████| 35/35 [00:08<00:00,  4.09it/s]\n",
      "Val Loss: 1.4412: 100%|██████████| 8/8 [00:00<00:00,  8.48it/s]"
     ]
    },
    {
     "name": "stdout",
     "output_type": "stream",
     "text": [
      "Training Loss: 1.3483, IoU: 0.1104\n",
      "Validation Loss: 1.4420, IoU: 0.1258\n",
      "No improvement in validation loss for 8 epochs\n",
      "\n",
      "Epoch 146/300\n",
      "--------------------------------------------------\n"
     ]
    },
    {
     "name": "stderr",
     "output_type": "stream",
     "text": [
      "\n",
      "Train Loss: 1.4752: 100%|██████████| 35/35 [00:08<00:00,  4.09it/s]\n",
      "Val Loss: 1.2137: 100%|██████████| 8/8 [00:00<00:00,  8.48it/s]"
     ]
    },
    {
     "name": "stdout",
     "output_type": "stream",
     "text": [
      "Training Loss: 1.3456, IoU: 0.1239\n",
      "Validation Loss: 1.3714, IoU: 0.1192\n",
      "No improvement in validation loss for 9 epochs\n",
      "\n",
      "Epoch 147/300\n",
      "--------------------------------------------------\n"
     ]
    },
    {
     "name": "stderr",
     "output_type": "stream",
     "text": [
      "\n",
      "Train Loss: 1.4857: 100%|██████████| 35/35 [00:08<00:00,  4.08it/s]\n",
      "Val Loss: 1.2530: 100%|██████████| 8/8 [00:00<00:00,  8.60it/s]"
     ]
    },
    {
     "name": "stdout",
     "output_type": "stream",
     "text": [
      "Training Loss: 1.3376, IoU: 0.1275\n",
      "Validation Loss: 1.4013, IoU: 0.1215\n",
      "No improvement in validation loss for 10 epochs\n",
      "\n",
      "Epoch 148/300\n",
      "--------------------------------------------------\n"
     ]
    },
    {
     "name": "stderr",
     "output_type": "stream",
     "text": [
      "\n",
      "Train Loss: 1.3944: 100%|██████████| 35/35 [00:08<00:00,  4.09it/s]\n",
      "Val Loss: 1.1504: 100%|██████████| 8/8 [00:00<00:00,  8.33it/s]"
     ]
    },
    {
     "name": "stdout",
     "output_type": "stream",
     "text": [
      "Training Loss: 1.3395, IoU: 0.1292\n",
      "Validation Loss: 1.3861, IoU: 0.1350\n",
      "No improvement in validation loss for 11 epochs\n",
      "\n",
      "Epoch 149/300\n",
      "--------------------------------------------------\n"
     ]
    },
    {
     "name": "stderr",
     "output_type": "stream",
     "text": [
      "\n",
      "Train Loss: 1.4693: 100%|██████████| 35/35 [00:08<00:00,  4.07it/s]\n",
      "Val Loss: 1.4395: 100%|██████████| 8/8 [00:00<00:00,  8.52it/s]\n"
     ]
    },
    {
     "name": "stdout",
     "output_type": "stream",
     "text": [
      "Training Loss: 1.3332, IoU: 0.1199\n",
      "Validation Loss: 1.4293, IoU: 0.1477\n",
      "No improvement in validation loss for 12 epochs\n",
      "\n",
      "Epoch 150/300\n",
      "--------------------------------------------------\n"
     ]
    },
    {
     "name": "stderr",
     "output_type": "stream",
     "text": [
      "Train Loss: 1.3159: 100%|██████████| 35/35 [00:08<00:00,  4.06it/s]\n",
      "Val Loss: 1.0859: 100%|██████████| 8/8 [00:00<00:00,  8.44it/s]"
     ]
    },
    {
     "name": "stdout",
     "output_type": "stream",
     "text": [
      "Training Loss: 1.3297, IoU: 0.1260\n",
      "Validation Loss: 1.3756, IoU: 0.1158\n",
      "No improvement in validation loss for 13 epochs\n",
      "\n",
      "Epoch 151/300\n",
      "--------------------------------------------------\n"
     ]
    },
    {
     "name": "stderr",
     "output_type": "stream",
     "text": [
      "\n",
      "Train Loss: 1.6201: 100%|██████████| 35/35 [00:08<00:00,  4.06it/s]\n",
      "Val Loss: 1.1332: 100%|██████████| 8/8 [00:00<00:00,  8.34it/s]"
     ]
    },
    {
     "name": "stdout",
     "output_type": "stream",
     "text": [
      "Training Loss: 1.3341, IoU: 0.1276\n",
      "Validation Loss: 1.4011, IoU: 0.1366\n",
      "No improvement in validation loss for 14 epochs\n",
      "\n",
      "Epoch 152/300\n",
      "--------------------------------------------------\n"
     ]
    },
    {
     "name": "stderr",
     "output_type": "stream",
     "text": [
      "\n",
      "Train Loss: 1.4228: 100%|██████████| 35/35 [00:08<00:00,  4.08it/s]\n",
      "Val Loss: 1.2652: 100%|██████████| 8/8 [00:00<00:00,  8.55it/s]"
     ]
    },
    {
     "name": "stdout",
     "output_type": "stream",
     "text": [
      "Training Loss: 1.3405, IoU: 0.1243\n",
      "Validation Loss: 1.4030, IoU: 0.1331\n",
      "No improvement in validation loss for 15 epochs\n",
      "\n",
      "Epoch 153/300\n",
      "--------------------------------------------------\n"
     ]
    },
    {
     "name": "stderr",
     "output_type": "stream",
     "text": [
      "\n",
      "Train Loss: 1.5406: 100%|██████████| 35/35 [00:08<00:00,  4.03it/s]\n",
      "Val Loss: 1.0698: 100%|██████████| 8/8 [00:00<00:00,  8.21it/s]"
     ]
    },
    {
     "name": "stdout",
     "output_type": "stream",
     "text": [
      "Training Loss: 1.3255, IoU: 0.1279\n",
      "Validation Loss: 1.4096, IoU: 0.1236\n",
      "No improvement in validation loss for 16 epochs\n",
      "\n",
      "Epoch 154/300\n",
      "--------------------------------------------------\n"
     ]
    },
    {
     "name": "stderr",
     "output_type": "stream",
     "text": [
      "\n",
      "Train Loss: 1.5258: 100%|██████████| 35/35 [00:08<00:00,  4.06it/s]\n",
      "Val Loss: 1.3145: 100%|██████████| 8/8 [00:00<00:00,  8.51it/s]\n"
     ]
    },
    {
     "name": "stdout",
     "output_type": "stream",
     "text": [
      "Training Loss: 1.3232, IoU: 0.1186\n",
      "Validation Loss: 1.3670, IoU: 0.1252\n",
      "No improvement in validation loss for 17 epochs\n",
      "\n",
      "Epoch 155/300\n",
      "--------------------------------------------------\n"
     ]
    },
    {
     "name": "stderr",
     "output_type": "stream",
     "text": [
      "Train Loss: 1.3491: 100%|██████████| 35/35 [00:08<00:00,  4.08it/s]\n",
      "Val Loss: 1.3752: 100%|██████████| 8/8 [00:00<00:00,  8.49it/s]"
     ]
    },
    {
     "name": "stdout",
     "output_type": "stream",
     "text": [
      "Training Loss: 1.3503, IoU: 0.1238\n",
      "Validation Loss: 1.4088, IoU: 0.1426\n",
      "No improvement in validation loss for 18 epochs\n",
      "\n",
      "Epoch 156/300\n",
      "--------------------------------------------------\n"
     ]
    },
    {
     "name": "stderr",
     "output_type": "stream",
     "text": [
      "\n",
      "Train Loss: 1.2449: 100%|██████████| 35/35 [00:08<00:00,  4.06it/s]\n",
      "Val Loss: 1.1172: 100%|██████████| 8/8 [00:00<00:00,  8.49it/s]"
     ]
    },
    {
     "name": "stdout",
     "output_type": "stream",
     "text": [
      "Training Loss: 1.3178, IoU: 0.1279\n",
      "Validation Loss: 1.3737, IoU: 0.1348\n",
      "No improvement in validation loss for 19 epochs\n",
      "\n",
      "Epoch 157/300\n",
      "--------------------------------------------------\n"
     ]
    },
    {
     "name": "stderr",
     "output_type": "stream",
     "text": [
      "\n",
      "Train Loss: 1.4939: 100%|██████████| 35/35 [00:08<00:00,  4.07it/s]\n",
      "Val Loss: 1.2199: 100%|██████████| 8/8 [00:00<00:00,  8.42it/s]"
     ]
    },
    {
     "name": "stdout",
     "output_type": "stream",
     "text": [
      "Training Loss: 1.3414, IoU: 0.1334\n",
      "Validation Loss: 1.4207, IoU: 0.1012\n",
      "No improvement in validation loss for 20 epochs\n",
      "\n",
      "Early stopping triggered after 157 epochs\n",
      "\n",
      "Loaded best model weights with validation loss: 1.3612\n"
     ]
    },
    {
     "name": "stderr",
     "output_type": "stream",
     "text": [
      "\n"
     ]
    }
   ],
   "source": [
    "# Set training parameters, again, as in the paper (see section 0.3 of the notebook)\n",
    "num_epochs = 300  # Maximum number of epochs to train\n",
    "patience = 20  # Number of epochs with no improvement after which training will be stopped\n",
    "delta = 0.0005  # Tolerance (minimum change in validation loss to qualify as improvement)\n",
    "\n",
    "# Train the model\n",
    "model, history, best_val_loss = nn_model.train_model(\n",
    "    model=model,\n",
    "    train_loader=train_loader,\n",
    "    val_loader=val_loader,\n",
    "    criterion=criterion,\n",
    "    optimizer=optimizer,\n",
    "    num_classes=5,\n",
    "    num_epochs=num_epochs,\n",
    "    patience=patience,\n",
    "    delta=delta\n",
    ")"
   ]
  },
  {
   "cell_type": "markdown",
   "id": "133d93d4",
   "metadata": {},
   "source": [
    "### Saving the weights and the architecture after training\n",
    "\n",
    "We use a function to save the model with the optimal weights found after training."
   ]
  },
  {
   "cell_type": "code",
   "execution_count": 35,
   "id": "213a8805",
   "metadata": {},
   "outputs": [
    {
     "name": "stdout",
     "output_type": "stream",
     "text": [
      "Model saved to models/unet_sentinel1_seed42_epochs_300_val_loss_1.3612.pth\n"
     ]
    }
   ],
   "source": [
    "utilities.save_model(model, \n",
    "           f'unet_sentinel{sentinel_type}_seed{seed}_epochs_{num_epochs}', \n",
    "           best_val_loss,\n",
    "           # Model architecture parameters defined in section 2.2\n",
    "           n_channels=n_channels, \n",
    "           n_classes=n_classes, \n",
    "           base_filters=base_filters,\n",
    "           dropout_p=dropout_p,\n",
    "           bilinear=bilinear)"
   ]
  },
  {
   "cell_type": "markdown",
   "id": "34e7548d",
   "metadata": {},
   "source": [
    "### Visualization of metrics"
   ]
  },
  {
   "cell_type": "code",
   "execution_count": 36,
   "id": "a63a3c47",
   "metadata": {},
   "outputs": [
    {
     "data": {
      "image/png": "[encoded data removed]",
      "text/plain": [
       "<Figure size 1200x500 with 2 Axes>"
      ]
     },
     "metadata": {},
     "output_type": "display_data"
    }
   ],
   "source": [
    "# Plot training and validation loss\n",
    "plt.figure(figsize=(12, 5))\n",
    "\n",
    "# Convert GPU tensors to CPU for plotting (to avoid errors)\n",
    "train_loss = [x.cpu().item() if torch.is_tensor(x) else x for x in history['train_loss']]\n",
    "val_loss = [x.cpu().item() if torch.is_tensor(x) else x for x in history['val_loss']]\n",
    "train_metrics = [x.cpu().item() if torch.is_tensor(x) else x for x in history['train_metrics']]\n",
    "val_metrics = [x.cpu().item() if torch.is_tensor(x) else x for x in history['val_metrics']]\n",
    "\n",
    "# Plot loss\n",
    "plt.subplot(1, 2, 1)\n",
    "plt.plot(train_loss, label='Training Loss')\n",
    "plt.plot(val_loss, label='Validation Loss')\n",
    "plt.title('Loss Over Epochs')\n",
    "plt.xlabel('Epochs')\n",
    "plt.ylabel('Loss')\n",
    "plt.legend()\n",
    "plt.grid(True)\n",
    "\n",
    "# Plot IoU\n",
    "plt.subplot(1, 2, 2)\n",
    "plt.plot(train_metrics, label='Training IoU')\n",
    "plt.plot(val_metrics, label='Validation IoU')\n",
    "plt.title('IoU Over Epochs')\n",
    "plt.xlabel('Epochs')\n",
    "plt.ylabel('IoU')\n",
    "plt.legend()\n",
    "plt.grid(True)\n",
    "\n",
    "plt.tight_layout()\n",
    "plt.show()"
   ]
  },
  {
   "cell_type": "markdown",
   "id": "45fdbc9f",
   "metadata": {},
   "source": [
    "Note that the loss is very noisy due to a relatively large learning rate, which has been set that way to avoid plateaus that we were encountering with a low learning rate. Compared to the Sentinel-2 L2A model training, we can observe that performance does not improve as much as the number of epochs increases - there does not seem to be as many patterns for learning as for the Sentinel-2 L2A data."
   ]
  }
 ],
 "metadata": {
  "kernelspec": {
   "display_name": "improc",
   "language": "python",
   "name": "python3"
  },
  "language_info": {
   "codemirror_mode": {
    "name": "ipython",
    "version": 3
   },
   "file_extension": ".py",
   "mimetype": "text/x-python",
   "name": "python",
   "nbconvert_exporter": "python",
   "pygments_lexer": "ipython3",
   "version": "3.12.0"
  }
 },
 "nbformat": 4,
 "nbformat_minor": 5
}
